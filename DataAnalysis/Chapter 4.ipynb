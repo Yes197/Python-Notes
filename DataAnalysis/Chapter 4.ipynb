{
 "cells": [
  {
   "cell_type": "markdown",
   "metadata": {},
   "source": [
    "# NumPy Basics: Arrays and Vectorized Computation"
   ]
  },
  {
   "cell_type": "markdown",
   "metadata": {},
   "source": [
    "**NumPy**, abreviatura de *Numerical Python*, es uno de los paquetes fundacionales de computación numérica más importantes en Python. La mayoría de los paquetes computacionales que proporcionan la funcionalidad científica utilizan el objeto NumPy’s array como la *lingua franca* para el intercambio de datos.\n",
    "Estas son algunas de las cosas que encontrarás en **NumPy**:\n",
    "\n",
    "- **ndarray**, es un array multidimensional que proporciona rápidas operaciones aritméticas orientado-a-arrays y con capacidades de transmisión flexibles.\n",
    "- Funciones matemáticas para operaciones rápidas en arrays enteros de data sin tener que escribir bucles.\n",
    "- Herramientas para leer / escribir array de datos en el disco y trabajar con archivos de memoria asignada.\n",
    "- Álgebra lineal, generación de números aleatorios y capacidades de transformación de Fourier.\n",
    "- Una API de C para conectar NumPy con bibliotecas escritas en C, C ++ o FORTRAN.\n",
    "\n",
    "Fun fact: La computación orientada a arrays en Python tiene sus raíces en 1995, cuando Jim Hugunin creó la biblioteca **Numeric**. En los próximos 10 años, muchas comunidades de programación científica comenzaron a hacer programación de array en Python, pero el ecosistema de la biblioteca se había fragmentado a principios de los 2000. En 2005, Travis Oliphant pudo forjar el proyecto **NumPy** a partir de los entonces proyectos **Numeric** y **Numarray** para reunir a la comunidad en torno a un marco de cómputo de array único.\n",
    "\n",
    "Una de las razones por las que **NumPy** es tan importante para los cálculos numéricos es porque está diseñado para la eficiencia en grandes conjuntos de datos. Hay algunas razones para esto:\n",
    "- **NumPy** internamente almacena datos en un bloque contiguo de memoria, independiente de otros objetos built-in de Python. La biblioteca de algoritmos de NumPy escrita en lenguaje C puede operar en esta memoria sin ningún tipo de verificación u otra sobrecarga. Los NumPy arrays también usan mucha menos memoria que las secuencias built-in de Python.\n",
    "- Las operaciones **NumPy** realizan cálculos complejos en matrices enteras sin la necesidad de bucles **for**.\n",
    "\n",
    "Para darte una idea de la diferencia de rendimiento, considera un NumPy array de un millón de enteros y una lista equivalente:"
   ]
  },
  {
   "cell_type": "code",
   "execution_count": 1,
   "metadata": {},
   "outputs": [],
   "source": [
    "import numpy as np\n",
    "my_arr = np.arange(1000000)\n",
    "my_list = list(range(1000000))"
   ]
  },
  {
   "cell_type": "markdown",
   "metadata": {},
   "source": [
    "Y si multiplicamos la secuencia por 2:"
   ]
  },
  {
   "cell_type": "code",
   "execution_count": 2,
   "metadata": {},
   "outputs": [
    {
     "name": "stdout",
     "output_type": "stream",
     "text": [
      "Wall time: 28 ms\n"
     ]
    }
   ],
   "source": [
    "%time for _ in range(10): my_arr2 = my_arr * 2"
   ]
  },
  {
   "cell_type": "code",
   "execution_count": 3,
   "metadata": {},
   "outputs": [
    {
     "name": "stdout",
     "output_type": "stream",
     "text": [
      "Wall time: 842 ms\n"
     ]
    }
   ],
   "source": [
    "%time for _ in range(10): my_list2 = [x * 2 for x in my_list]"
   ]
  },
  {
   "cell_type": "markdown",
   "metadata": {},
   "source": [
    "Los algoritmmos basados en Numpy arrays son generalmente 10 a 100 (o más) veces más rápidos que sus contrapartes puras de Python y usan significativamente menos memoria."
   ]
  },
  {
   "cell_type": "markdown",
   "metadata": {},
   "source": [
    "## The NumPy ndarray: A Multidimensional Array Object"
   ]
  },
  {
   "cell_type": "markdown",
   "metadata": {},
   "source": [
    "Una de las características clave de NumPy es su objeto array N-dimensional, o **ndarray**, que es un contenedor rápido y flexible para grandes conjuntos de datos en Python. Los array permiten realizar operaciones matemáticas en bloques completos de datos utilizando una sintaxis similar a las operaciones equivalentes entre elementos escalares. Para darte una idea de cómo NumPy habilita los cálculos por lotes con una sintaxis similar a la de los objetos de valores escalares, mira el ejemplo:"
   ]
  },
  {
   "cell_type": "code",
   "execution_count": 4,
   "metadata": {},
   "outputs": [
    {
     "data": {
      "text/plain": [
       "array([[-1.23215909, -1.07840721, -0.46023714],\n",
       "       [ 1.13940842, -2.31105397,  1.15747563]])"
      ]
     },
     "execution_count": 4,
     "metadata": {},
     "output_type": "execute_result"
    }
   ],
   "source": [
    "import numpy as np\n",
    "# Generamos alguna data random\n",
    "data = np.random.randn(2, 3)\n",
    "data"
   ]
  },
  {
   "cell_type": "code",
   "execution_count": 5,
   "metadata": {},
   "outputs": [
    {
     "data": {
      "text/plain": [
       "array([[-12.32159088, -10.78407213,  -4.60237138],\n",
       "       [ 11.39408424, -23.11053966,  11.57475633]])"
      ]
     },
     "execution_count": 5,
     "metadata": {},
     "output_type": "execute_result"
    }
   ],
   "source": [
    "# Realizamos operaciones matemáticas con data\n",
    "data * 10"
   ]
  },
  {
   "cell_type": "markdown",
   "metadata": {},
   "source": [
    "Un **ndarray** es un contenedor genérico multidimensional para datos homogéneos; es decir, todos los elementos deben ser del mismo tipo. Cada array tiene una forma, una tupla que indica el tamaño de cada dimensión y un **dtype**, un objeto que describe el *tipo de datos* del array."
   ]
  },
  {
   "cell_type": "code",
   "execution_count": 11,
   "metadata": {},
   "outputs": [
    {
     "data": {
      "text/plain": [
       "(2, 3)"
      ]
     },
     "execution_count": 11,
     "metadata": {},
     "output_type": "execute_result"
    }
   ],
   "source": [
    "data.shape"
   ]
  },
  {
   "cell_type": "code",
   "execution_count": 12,
   "metadata": {},
   "outputs": [
    {
     "data": {
      "text/plain": [
       "dtype('float64')"
      ]
     },
     "execution_count": 12,
     "metadata": {},
     "output_type": "execute_result"
    }
   ],
   "source": [
    "data.dtype"
   ]
  },
  {
   "cell_type": "markdown",
   "metadata": {},
   "source": [
    "### Creating ndarrays"
   ]
  },
  {
   "cell_type": "markdown",
   "metadata": {},
   "source": [
    "- La forma más fácil de crear un array es usar la función **array**. Esta acepta cualquier objeto tipo-secuencia (incluidas otros arrays) y produce un nuevo array NumPy que contiene la data pasada. Por ejemplo, una lista es un buen candidato para la conversión:"
   ]
  },
  {
   "cell_type": "code",
   "execution_count": 13,
   "metadata": {},
   "outputs": [
    {
     "data": {
      "text/plain": [
       "array([6. , 7.5, 8. , 0. , 1. ])"
      ]
     },
     "execution_count": 13,
     "metadata": {},
     "output_type": "execute_result"
    }
   ],
   "source": [
    "data1 = [6, 7.5, 8, 0, 1]\n",
    "arr1 = np.array(data1)\n",
    "arr1"
   ]
  },
  {
   "cell_type": "markdown",
   "metadata": {},
   "source": [
    "- Las secuencias anidadas, como una lista de listas de igual longitud, se convertirán en una multidimensional array.  "
   ]
  },
  {
   "cell_type": "code",
   "execution_count": 14,
   "metadata": {},
   "outputs": [
    {
     "data": {
      "text/plain": [
       "array([[1, 2, 3, 4],\n",
       "       [5, 6, 7, 8]])"
      ]
     },
     "execution_count": 14,
     "metadata": {},
     "output_type": "execute_result"
    }
   ],
   "source": [
    "data2 = [[1, 2, 3, 4], [5, 6, 7, 8]]\n",
    "arr2 = np.array(data2)\n",
    "arr2"
   ]
  },
  {
   "cell_type": "markdown",
   "metadata": {},
   "source": [
    "- Como data2 es una lista de listas, el NumPy array tiene 2 dimensiones inferidas de la data. Podemos confirmar viendo los atributos **ndim** y **shape**."
   ]
  },
  {
   "cell_type": "code",
   "execution_count": 15,
   "metadata": {},
   "outputs": [
    {
     "data": {
      "text/plain": [
       "2"
      ]
     },
     "execution_count": 15,
     "metadata": {},
     "output_type": "execute_result"
    }
   ],
   "source": [
    "arr2.ndim"
   ]
  },
  {
   "cell_type": "code",
   "execution_count": 16,
   "metadata": {},
   "outputs": [
    {
     "data": {
      "text/plain": [
       "(2, 4)"
      ]
     },
     "execution_count": 16,
     "metadata": {},
     "output_type": "execute_result"
    }
   ],
   "source": [
    "arr2.shape"
   ]
  },
  {
   "cell_type": "markdown",
   "metadata": {},
   "source": [
    "- A menos que se especifique explícitamente, np.array intenta inferir un buen tipo de datos para el array que crea. El tipo de datos se almacena en un  objeto metadatos **dtype** especial; por ejemplo, en los dos ejemplos anteriores tenemos:"
   ]
  },
  {
   "cell_type": "code",
   "execution_count": 17,
   "metadata": {},
   "outputs": [
    {
     "data": {
      "text/plain": [
       "dtype('float64')"
      ]
     },
     "execution_count": 17,
     "metadata": {},
     "output_type": "execute_result"
    }
   ],
   "source": [
    "arr1.dtype"
   ]
  },
  {
   "cell_type": "code",
   "execution_count": 18,
   "metadata": {},
   "outputs": [
    {
     "data": {
      "text/plain": [
       "dtype('int32')"
      ]
     },
     "execution_count": 18,
     "metadata": {},
     "output_type": "execute_result"
    }
   ],
   "source": [
    "arr2.dtype"
   ]
  },
  {
   "cell_type": "markdown",
   "metadata": {},
   "source": [
    "- Además de np.array, existen otras funciones para crear nuevos arrays. Como **zeros** y **ones** que crean matrices de 0 o 1, respectivamente, con un longitud o forma dada. **empty** crea un array sin inicializar sus valores con ningún valor en particular. Para crear una matriz dimensional mayor con estos métodos, pasa una tupla al atributo forma:"
   ]
  },
  {
   "cell_type": "code",
   "execution_count": 19,
   "metadata": {},
   "outputs": [
    {
     "data": {
      "text/plain": [
       "array([0., 0., 0., 0., 0., 0., 0., 0., 0., 0.])"
      ]
     },
     "execution_count": 19,
     "metadata": {},
     "output_type": "execute_result"
    }
   ],
   "source": [
    "np.zeros(10)"
   ]
  },
  {
   "cell_type": "code",
   "execution_count": 20,
   "metadata": {},
   "outputs": [
    {
     "data": {
      "text/plain": [
       "array([[0., 0., 0., 0., 0., 0.],\n",
       "       [0., 0., 0., 0., 0., 0.],\n",
       "       [0., 0., 0., 0., 0., 0.]])"
      ]
     },
     "execution_count": 20,
     "metadata": {},
     "output_type": "execute_result"
    }
   ],
   "source": [
    "np.zeros((3, 6))"
   ]
  },
  {
   "cell_type": "code",
   "execution_count": 21,
   "metadata": {},
   "outputs": [
    {
     "data": {
      "text/plain": [
       "array([[[0., 0.],\n",
       "        [0., 0.],\n",
       "        [0., 0.]],\n",
       "\n",
       "       [[0., 0.],\n",
       "        [0., 0.],\n",
       "        [0., 0.]]])"
      ]
     },
     "execution_count": 21,
     "metadata": {},
     "output_type": "execute_result"
    }
   ],
   "source": [
    "np.empty((2, 3, 2))"
   ]
  },
  {
   "cell_type": "markdown",
   "metadata": {},
   "source": [
    "- No es seguro pensar que **empty** siempre devolverá un array de ceros, en algunos casos puede devolver valores \"basura\" no inicializados."
   ]
  },
  {
   "cell_type": "markdown",
   "metadata": {},
   "source": [
    "- **arange** es una versión con valor-array de la función built-in **range** de Python."
   ]
  },
  {
   "cell_type": "code",
   "execution_count": 23,
   "metadata": {},
   "outputs": [
    {
     "data": {
      "text/plain": [
       "array([ 0,  1,  2,  3,  4,  5,  6,  7,  8,  9, 10, 11, 12, 13, 14])"
      ]
     },
     "execution_count": 23,
     "metadata": {},
     "output_type": "execute_result"
    }
   ],
   "source": [
    "np.arange(15)"
   ]
  },
  {
   "cell_type": "markdown",
   "metadata": {},
   "source": [
    "- Una lista corta de funciones estándar de creación de arrays. Como NumPy está centrado en la computación numérica, el tipo de datos, si no se especifica, en muchos casos será float64 (punto flotante)."
   ]
  },
  {
   "cell_type": "markdown",
   "metadata": {},
   "source": [
    "|Función|Descripción|\n",
    "|-|-|\n",
    "|array| Convierte datos de entrada (lista, tupla, array u otro tipo de secuencia) a ndarray, deduciendo o especificando explícitamente un dtype; copia los datos de entrada por defecto\n",
    "|asarray| Convierte la entrada a ndarray, pero no copia si la entrada ya es ndarray\n",
    "|arange| Al igual que el built-in range pero devuelve un ndarray en lugar de una lista \n",
    "|ones |Produce un array de 1s con la forma y el dtype dados\n",
    "|ones_like | Toma otro array y produce un array de 1s de la misma forma y dtype\n",
    "|zeros | Produce un array de 0s con la forma y el dtype dados\n",
    "|zeros_like| Toma otro array y produce un array de 0s de la misma forma y dtype\n",
    "|empty| Crea nuevos arrays asignándolos a una nueva memoria, pero no los completa con ningún valor como ones y zeros\n",
    "|empty_like | Toma otro array y hace lo mismo que empty pero de la misma forma y dtype\n",
    "|full | Produce una matriz de la forma y dtype dados con todos los valores establecidos en el \"fill value\" indicado\n",
    "|full_like| Toma otra matriz y produce una matriz llena de la misma forma y dtype\n",
    "|eye, identity| Crea una matriz de identidad cuadrada N × N (1s en la diagonal y 0s en los demás)"
   ]
  },
  {
   "cell_type": "markdown",
   "metadata": {},
   "source": [
    "### Data Types for ndarrays"
   ]
  },
  {
   "cell_type": "markdown",
   "metadata": {},
   "source": [
    "El *tipo de datos* o **dtype** es un objeto especial que contiene la información (o *metadatos*, datos sobre datos) que el ndarray necesita para interpretar una porción de memoria como un particular tipo de datos."
   ]
  },
  {
   "cell_type": "code",
   "execution_count": 25,
   "metadata": {},
   "outputs": [
    {
     "data": {
      "text/plain": [
       "dtype('float64')"
      ]
     },
     "execution_count": 25,
     "metadata": {},
     "output_type": "execute_result"
    }
   ],
   "source": [
    "arr1 = np.array([1, 2, 3], dtype=np.float64)\n",
    "arr2 = np.array([1, 2, 3], dtype=np.int32)\n",
    "arr1.dtype"
   ]
  },
  {
   "cell_type": "code",
   "execution_count": 26,
   "metadata": {},
   "outputs": [
    {
     "data": {
      "text/plain": [
       "dtype('int32')"
      ]
     },
     "execution_count": 26,
     "metadata": {},
     "output_type": "execute_result"
    }
   ],
   "source": [
    "arr2.dtype"
   ]
  },
  {
   "cell_type": "code",
   "execution_count": null,
   "metadata": {},
   "outputs": [],
   "source": []
  },
  {
   "cell_type": "code",
   "execution_count": null,
   "metadata": {},
   "outputs": [],
   "source": []
  },
  {
   "cell_type": "code",
   "execution_count": null,
   "metadata": {},
   "outputs": [],
   "source": []
  },
  {
   "cell_type": "code",
   "execution_count": null,
   "metadata": {},
   "outputs": [],
   "source": []
  },
  {
   "cell_type": "code",
   "execution_count": null,
   "metadata": {},
   "outputs": [],
   "source": []
  },
  {
   "cell_type": "code",
   "execution_count": null,
   "metadata": {},
   "outputs": [],
   "source": []
  },
  {
   "cell_type": "code",
   "execution_count": null,
   "metadata": {},
   "outputs": [],
   "source": []
  },
  {
   "cell_type": "markdown",
   "metadata": {},
   "source": []
  },
  {
   "cell_type": "markdown",
   "metadata": {},
   "source": [
    "#### Unpacking tuples"
   ]
  },
  {
   "cell_type": "code",
   "execution_count": null,
   "metadata": {},
   "outputs": [],
   "source": []
  },
  {
   "cell_type": "code",
   "execution_count": null,
   "metadata": {},
   "outputs": [],
   "source": []
  }
 ],
 "metadata": {
  "kernelspec": {
   "display_name": "Python 3",
   "language": "python",
   "name": "python3"
  },
  "language_info": {
   "codemirror_mode": {
    "name": "ipython",
    "version": 3
   },
   "file_extension": ".py",
   "mimetype": "text/x-python",
   "name": "python",
   "nbconvert_exporter": "python",
   "pygments_lexer": "ipython3",
   "version": "3.7.3"
  }
 },
 "nbformat": 4,
 "nbformat_minor": 4
}
