{
 "cells": [
  {
   "cell_type": "markdown",
   "metadata": {
    "toc": true
   },
   "source": [
    "<h1>Table of Contents<span class=\"tocSkip\"></span></h1>\n",
    "<div class=\"toc\"><ul class=\"toc-item\"><li><span><a href=\"#Get-a-TensorFlow-Session\" data-toc-modified-id=\"Get-a-TensorFlow-Session-1\"><span class=\"toc-item-num\">1&nbsp;&nbsp;</span>Get a TensorFlow Session</a></span></li><li><span><a href=\"#Constants\" data-toc-modified-id=\"Constants-2\"><span class=\"toc-item-num\">2&nbsp;&nbsp;</span>Constants</a></span></li><li><span><a href=\"#Operations\" data-toc-modified-id=\"Operations-3\"><span class=\"toc-item-num\">3&nbsp;&nbsp;</span>Operations</a></span></li><li><span><a href=\"#Placeholders\" data-toc-modified-id=\"Placeholders-4\"><span class=\"toc-item-num\">4&nbsp;&nbsp;</span>Placeholders</a></span></li><li><span><a href=\"#Creating-Tensors-from-Existing-Objects\" data-toc-modified-id=\"Creating-Tensors-from-Existing-Objects-5\"><span class=\"toc-item-num\">5&nbsp;&nbsp;</span>Creating Tensors from Existing Objects</a></span><ul class=\"toc-item\"><li><span><a href=\"#0-Dimensional-Tensors-(Scalars)\" data-toc-modified-id=\"0-Dimensional-Tensors-(Scalars)-5.1\"><span class=\"toc-item-num\">5.1&nbsp;&nbsp;</span>0-Dimensional Tensors (Scalars)</a></span></li><li><span><a href=\"#1-Dimensional-Tensors-(Vectors)\" data-toc-modified-id=\"1-Dimensional-Tensors-(Vectors)-5.2\"><span class=\"toc-item-num\">5.2&nbsp;&nbsp;</span>1-Dimensional Tensors (Vectors)</a></span></li><li><span><a href=\"#2-Dimensional-Tensors-(Matrices)\" data-toc-modified-id=\"2-Dimensional-Tensors-(Matrices)-5.3\"><span class=\"toc-item-num\">5.3&nbsp;&nbsp;</span>2-Dimensional Tensors (Matrices)</a></span></li><li><span><a href=\"#3-Dimensional-Tensors\" data-toc-modified-id=\"3-Dimensional-Tensors-5.4\"><span class=\"toc-item-num\">5.4&nbsp;&nbsp;</span>3-Dimensional Tensors</a></span></li></ul></li><li><span><a href=\"#Variables\" data-toc-modified-id=\"Variables-6\"><span class=\"toc-item-num\">6&nbsp;&nbsp;</span>Variables</a></span></li><li><span><a href=\"#Creating-Tensors-from-Library-Functions\" data-toc-modified-id=\"Creating-Tensors-from-Library-Functions-7\"><span class=\"toc-item-num\">7&nbsp;&nbsp;</span>Creating Tensors from Library Functions</a></span></li><li><span><a href=\"#Close-the-interactive-session\" data-toc-modified-id=\"Close-the-interactive-session-8\"><span class=\"toc-item-num\">8&nbsp;&nbsp;</span>Close the interactive session</a></span></li><li><span><a href=\"#Computation-Graphs\" data-toc-modified-id=\"Computation-Graphs-9\"><span class=\"toc-item-num\">9&nbsp;&nbsp;</span>Computation Graphs</a></span><ul class=\"toc-item\"><li><span><a href=\"#Building-and-Running-simple-computation-graph\" data-toc-modified-id=\"Building-and-Running-simple-computation-graph-9.1\"><span class=\"toc-item-num\">9.1&nbsp;&nbsp;</span>Building and Running simple computation graph</a></span></li><li><span><a href=\"#Graph-on-Compute-Devices\" data-toc-modified-id=\"Graph-on-Compute-Devices-9.2\"><span class=\"toc-item-num\">9.2&nbsp;&nbsp;</span>Graph on Compute Devices</a></span><ul class=\"toc-item\"><li><span><a href=\"#List-the-devices-available\" data-toc-modified-id=\"List-the-devices-available-9.2.1\"><span class=\"toc-item-num\">9.2.1&nbsp;&nbsp;</span>List the devices available</a></span></li><li><span><a href=\"#Default-placement\" data-toc-modified-id=\"Default-placement-9.2.2\"><span class=\"toc-item-num\">9.2.2&nbsp;&nbsp;</span>Default placement</a></span></li><li><span><a href=\"#Placement-on-CPU\" data-toc-modified-id=\"Placement-on-CPU-9.2.3\"><span class=\"toc-item-num\">9.2.3&nbsp;&nbsp;</span>Placement on CPU</a></span></li><li><span><a href=\"#Placement-on-CPU-and-GPU\" data-toc-modified-id=\"Placement-on-CPU-and-GPU-9.2.4\"><span class=\"toc-item-num\">9.2.4&nbsp;&nbsp;</span>Placement on CPU and GPU</a></span></li></ul></li><li><span><a href=\"#Executing-Graph-g-as-Default\" data-toc-modified-id=\"Executing-Graph-g-as-Default-9.3\"><span class=\"toc-item-num\">9.3&nbsp;&nbsp;</span>Executing Graph g as Default</a></span></li></ul></li><li><span><a href=\"#Logistic-Regression-with-TensorFlow\" data-toc-modified-id=\"Logistic-Regression-with-TensorFlow-10\"><span class=\"toc-item-num\">10&nbsp;&nbsp;</span>Logistic Regression with TensorFlow</a></span></li><li><span><a href=\"#Logistic-Regression-with-Keras\" data-toc-modified-id=\"Logistic-Regression-with-Keras-11\"><span class=\"toc-item-num\">11&nbsp;&nbsp;</span>Logistic Regression with Keras</a></span></li></ul></div>"
   ]
  },
  {
   "cell_type": "markdown",
   "metadata": {},
   "source": [
    "# TensorFlow 101 <a class=\"tocSkip\">"
   ]
  },
  {
   "cell_type": "code",
   "execution_count": 1,
   "metadata": {},
   "outputs": [
    {
     "name": "stdout",
     "output_type": "stream",
     "text": [
      "TensorFlow Version : 1.10.0\n",
      "Numpy Version : 1.15.0\n",
      "Python interpreter and version: 3.6.6 |Anaconda custom (64-bit)| (default, Jun 28 2018, 17:14:51) \n",
      "[GCC 7.2.0]\n"
     ]
    }
   ],
   "source": [
    "import tensorflow as tf\n",
    "print('TensorFlow Version :',tf.__version__)\n",
    "import numpy as np\n",
    "print('Numpy Version :',np.__version__)\n",
    "import sys\n",
    "print('Python interpreter and version:',sys.version)"
   ]
  },
  {
   "cell_type": "markdown",
   "metadata": {},
   "source": [
    "# Get a TensorFlow Session "
   ]
  },
  {
   "cell_type": "code",
   "execution_count": 2,
   "metadata": {},
   "outputs": [],
   "source": [
    "tfs = tf.Session()"
   ]
  },
  {
   "cell_type": "code",
   "execution_count": 3,
   "metadata": {},
   "outputs": [
    {
     "name": "stdout",
     "output_type": "stream",
     "text": [
      "b'Hello from TensorFlow Projects !!'\n"
     ]
    }
   ],
   "source": [
    "hello = tf.constant(\"Hello from TensorFlow Projects !!\")\n",
    "print(tfs.run(hello))"
   ]
  },
  {
   "cell_type": "markdown",
   "metadata": {},
   "source": [
    "# Constants"
   ]
  },
  {
   "cell_type": "code",
   "execution_count": 4,
   "metadata": {},
   "outputs": [
    {
     "name": "stdout",
     "output_type": "stream",
     "text": [
      "const1 (x):  Tensor(\"x:0\", shape=(), dtype=int32)\n",
      "const2 (y):  Tensor(\"y:0\", shape=(), dtype=float32)\n",
      "const3 (z):  Tensor(\"z:0\", shape=(), dtype=float32)\n"
     ]
    }
   ],
   "source": [
    "const1 = tf.constant(34, name='x')\n",
    "const2 = tf.constant(59.0, name='y')\n",
    "const3 = tf.constant(32.0, dtype=tf.float32, name='z')\n",
    "print('const1 (x): ', const1)\n",
    "print('const2 (y): ', const2)\n",
    "print('const3 (z): ', const3)"
   ]
  },
  {
   "cell_type": "code",
   "execution_count": 5,
   "metadata": {},
   "outputs": [
    {
     "name": "stdout",
     "output_type": "stream",
     "text": [
      "run([const1,const2,const3]) :  [34, 59.0, 32.0]\n"
     ]
    }
   ],
   "source": [
    "print('run([const1,const2,const3]) : ', tfs.run([const1, const2, const3]))"
   ]
  },
  {
   "cell_type": "markdown",
   "metadata": {},
   "source": [
    "# Operations"
   ]
  },
  {
   "cell_type": "code",
   "execution_count": 6,
   "metadata": {},
   "outputs": [
    {
     "name": "stdout",
     "output_type": "stream",
     "text": [
      "op1 :  Tensor(\"Add:0\", shape=(), dtype=float32)\n",
      "op2 :  Tensor(\"Mul:0\", shape=(), dtype=float32)\n"
     ]
    }
   ],
   "source": [
    "op1 = tf.add(const2, const3)\n",
    "op2 = tf.multiply(const2, const3)\n",
    "print('op1 : ', op1)\n",
    "print('op2 : ', op2)"
   ]
  },
  {
   "cell_type": "code",
   "execution_count": 7,
   "metadata": {},
   "outputs": [
    {
     "name": "stdout",
     "output_type": "stream",
     "text": [
      "run(op1) :  91.0\n",
      "run(op2) :  1888.0\n"
     ]
    }
   ],
   "source": [
    "print('run(op1) : ', tfs.run(op1))\n",
    "print('run(op2) : ', tfs.run(op2))"
   ]
  },
  {
   "cell_type": "markdown",
   "metadata": {},
   "source": [
    "# Placeholders"
   ]
  },
  {
   "cell_type": "code",
   "execution_count": 8,
   "metadata": {},
   "outputs": [
    {
     "name": "stdout",
     "output_type": "stream",
     "text": [
      "p1 :  Tensor(\"Placeholder:0\", dtype=float32)\n",
      "p2 :  Tensor(\"Placeholder_1:0\", dtype=float32)\n"
     ]
    }
   ],
   "source": [
    "p1 = tf.placeholder(tf.float32)\n",
    "p2 = tf.placeholder(tf.float32)\n",
    "print('p1 : ', p1)\n",
    "print('p2 : ', p2)"
   ]
  },
  {
   "cell_type": "code",
   "execution_count": 9,
   "metadata": {},
   "outputs": [],
   "source": [
    "mult_op = p1 * p2  # shorthand for tf.multiply(p1, p2)"
   ]
  },
  {
   "cell_type": "code",
   "execution_count": 10,
   "metadata": {},
   "outputs": [
    {
     "name": "stdout",
     "output_type": "stream",
     "text": [
      "run(mult_op,{p1:13.4, p2:61.7}) :  826.77997\n"
     ]
    }
   ],
   "source": [
    "print('run(mult_op,{p1:13.4, p2:61.7}) : ',tfs.run(mult_op,{p1:13.4, p2:61.7}))"
   ]
  },
  {
   "cell_type": "code",
   "execution_count": 11,
   "metadata": {},
   "outputs": [
    {
     "name": "stdout",
     "output_type": "stream",
     "text": [
      "run(mult_op,feed_dict = {p1:15.4, p2:19.5}) :  300.3\n"
     ]
    }
   ],
   "source": [
    "feed_dict={p1: 15.4, p2: 19.5}\n",
    "print('run(mult_op,feed_dict = {p1:15.4, p2:19.5}) : ',\n",
    "      tfs.run(mult_op, feed_dict=feed_dict))"
   ]
  },
  {
   "cell_type": "code",
   "execution_count": 12,
   "metadata": {},
   "outputs": [
    {
     "name": "stdout",
     "output_type": "stream",
     "text": [
      "run(mult_op,feed_dict={p1:[2.0,3.0,4.0], p2:[3.0,4.0,5.0]}): [ 6. 12. 20.]\n"
     ]
    }
   ],
   "source": [
    "feed_dict={p1: [2.0, 3.0, 4.0], p2: [3.0, 4.0, 5.0]}\n",
    "print('run(mult_op,feed_dict={p1:[2.0,3.0,4.0], p2:[3.0,4.0,5.0]}):',\n",
    "      tfs.run(mult_op, feed_dict=feed_dict))"
   ]
  },
  {
   "cell_type": "markdown",
   "metadata": {},
   "source": [
    "# Creating Tensors from Existing Objects"
   ]
  },
  {
   "cell_type": "markdown",
   "metadata": {},
   "source": [
    "## 0-Dimensional Tensors (Scalars)"
   ]
  },
  {
   "cell_type": "code",
   "execution_count": 13,
   "metadata": {},
   "outputs": [
    {
     "name": "stdout",
     "output_type": "stream",
     "text": [
      "tf_t :  Tensor(\"Const_1:0\", shape=(), dtype=float64)\n",
      "run(tf_t) : \n",
      " 5.0\n"
     ]
    }
   ],
   "source": [
    "tf_t = tf.convert_to_tensor(5.0, dtype=tf.float64)\n",
    "\n",
    "print('tf_t : ', tf_t)\n",
    "print('run(tf_t) : \\n', tfs.run(tf_t))"
   ]
  },
  {
   "cell_type": "markdown",
   "metadata": {},
   "source": [
    "## 1-Dimensional Tensors (Vectors)"
   ]
  },
  {
   "cell_type": "code",
   "execution_count": 14,
   "metadata": {
    "scrolled": true
   },
   "outputs": [
    {
     "name": "stdout",
     "output_type": "stream",
     "text": [
      "a1dim Shape :  (5,)\n",
      "tf_t :  Tensor(\"Const_2:0\", shape=(5,), dtype=float64)\n",
      "tf_t[0] :  Tensor(\"strided_slice:0\", shape=(), dtype=float64)\n",
      "tf_t[0] :  Tensor(\"strided_slice_1:0\", shape=(), dtype=float64)\n",
      "run(tf_t) : \n",
      " [1.   2.   3.   4.   5.99]\n"
     ]
    }
   ],
   "source": [
    "a1dim = np.array([1, 2, 3, 4, 5.99])\n",
    "print('a1dim Shape : ', a1dim.shape)\n",
    "\n",
    "tf_t = tf.convert_to_tensor(a1dim, dtype=tf.float64)\n",
    "\n",
    "print('tf_t : ', tf_t)\n",
    "print('tf_t[0] : ', tf_t[0])\n",
    "print('tf_t[0] : ', tf_t[2])\n",
    "print('run(tf_t) : \\n', tfs.run(tf_t))"
   ]
  },
  {
   "cell_type": "markdown",
   "metadata": {},
   "source": [
    "## 2-Dimensional Tensors (Matrices)"
   ]
  },
  {
   "cell_type": "code",
   "execution_count": 15,
   "metadata": {},
   "outputs": [
    {
     "name": "stdout",
     "output_type": "stream",
     "text": [
      "a2dim Shape :  (3, 5)\n",
      "tf_t :  Tensor(\"Const_3:0\", shape=(3, 5), dtype=float64)\n",
      "tf_t[0][0] :  Tensor(\"strided_slice_3:0\", shape=(), dtype=float64)\n",
      "tf_t[1][2] :  Tensor(\"strided_slice_5:0\", shape=(), dtype=float64)\n",
      "run(tf_t) : \n",
      " [[1.   2.   3.   4.   5.99]\n",
      " [2.   3.   4.   5.   6.99]\n",
      " [3.   4.   5.   6.   7.99]]\n"
     ]
    }
   ],
   "source": [
    "a2dim = np.array([(1, 2, 3, 4, 5.99),\n",
    "                  (2, 3, 4, 5, 6.99),\n",
    "                  (3, 4, 5, 6, 7.99)\n",
    "                  ])\n",
    "print('a2dim Shape : ', a2dim.shape)\n",
    "\n",
    "tf_t = tf.convert_to_tensor(a2dim, dtype=tf.float64)\n",
    "\n",
    "print('tf_t : ', tf_t)\n",
    "print('tf_t[0][0] : ', tf_t[0][0])\n",
    "print('tf_t[1][2] : ', tf_t[1][2])\n",
    "print('run(tf_t) : \\n', tfs.run(tf_t))"
   ]
  },
  {
   "cell_type": "markdown",
   "metadata": {},
   "source": [
    "## 3-Dimensional Tensors"
   ]
  },
  {
   "cell_type": "code",
   "execution_count": 16,
   "metadata": {},
   "outputs": [
    {
     "name": "stdout",
     "output_type": "stream",
     "text": [
      "a3dim Shape :  (2, 2, 2)\n",
      "tf_t :  Tensor(\"Const_4:0\", shape=(2, 2, 2), dtype=float64)\n",
      "tf_t[0][0][0] :  Tensor(\"strided_slice_8:0\", shape=(), dtype=float64)\n",
      "tf_t[1][1][1] :  Tensor(\"strided_slice_11:0\", shape=(), dtype=float64)\n",
      "run(tf_t) : \n",
      " [[[1. 2.]\n",
      "  [3. 4.]]\n",
      "\n",
      " [[5. 6.]\n",
      "  [7. 8.]]]\n"
     ]
    }
   ],
   "source": [
    "a3dim = np.array([[[1, 2],\n",
    "                   [3, 4]\n",
    "                   ],\n",
    "                  [[5, 6],\n",
    "                   [7, 8]\n",
    "                   ]\n",
    "                  ])\n",
    "print('a3dim Shape : ', a3dim.shape)\n",
    "\n",
    "tf_t = tf.convert_to_tensor(a3dim, dtype=tf.float64)\n",
    "\n",
    "print('tf_t : ', tf_t)\n",
    "print('tf_t[0][0][0] : ', tf_t[0][0][0])\n",
    "print('tf_t[1][1][1] : ', tf_t[1][1][1])\n",
    "print('run(tf_t) : \\n', tfs.run(tf_t))"
   ]
  },
  {
   "cell_type": "markdown",
   "metadata": {},
   "source": [
    "# Variables"
   ]
  },
  {
   "cell_type": "code",
   "execution_count": 17,
   "metadata": {
    "scrolled": true
   },
   "outputs": [
    {
     "name": "stdout",
     "output_type": "stream",
     "text": [
      "w: <tf.Variable 'Variable:0' shape=(1,) dtype=float32_ref>\n",
      "x: Tensor(\"Placeholder_2:0\", dtype=float32)\n",
      "b: <tf.Variable 'Variable_1:0' shape=(1,) dtype=float32_ref>\n",
      "y: Tensor(\"add_1:0\", dtype=float32)\n"
     ]
    }
   ],
   "source": [
    "# Linear model y = w * x + b\n",
    "# Define model parameters\n",
    "w = tf.Variable([.3], tf.float32)\n",
    "b = tf.Variable([-.3], tf.float32)\n",
    "# Define model input and output\n",
    "x = tf.placeholder(tf.float32)\n",
    "y = w * x + b\n",
    "\n",
    "print('w:', w)\n",
    "print('x:', x)\n",
    "print('b:', b)\n",
    "print('y:', y)"
   ]
  },
  {
   "cell_type": "code",
   "execution_count": 21,
   "metadata": {
    "scrolled": true
   },
   "outputs": [
    {
     "name": "stdout",
     "output_type": "stream",
     "text": [
      "run(y,{x:[1,2,3,4]}) :  [0.         0.3        0.6        0.90000004]\n"
     ]
    }
   ],
   "source": [
    "# initialize and print the variable y\n",
    "tfs.run(tf.global_variables_initializer())\n",
    "print('run(y,{x:[1,2,3,4]}) : ', tfs.run(y, {x: [1, 2, 3, 4]}))"
   ]
  },
  {
   "cell_type": "markdown",
   "metadata": {},
   "source": [
    "# Creating Tensors from Library Functions"
   ]
  },
  {
   "cell_type": "code",
   "execution_count": 22,
   "metadata": {},
   "outputs": [
    {
     "name": "stdout",
     "output_type": "stream",
     "text": [
      "[0. 0. 0. 0. 0. 0. 0. 0. 0. 0. 0. 0. 0. 0. 0. 0. 0. 0. 0. 0. 0. 0. 0. 0.\n",
      " 0. 0. 0. 0. 0. 0. 0. 0. 0. 0. 0. 0. 0. 0. 0. 0. 0. 0. 0. 0. 0. 0. 0. 0.\n",
      " 0. 0. 0. 0. 0. 0. 0. 0. 0. 0. 0. 0. 0. 0. 0. 0. 0. 0. 0. 0. 0. 0. 0. 0.\n",
      " 0. 0. 0. 0. 0. 0. 0. 0. 0. 0. 0. 0. 0. 0. 0. 0. 0. 0. 0. 0. 0. 0. 0. 0.\n",
      " 0. 0. 0. 0.]\n"
     ]
    }
   ],
   "source": [
    "a = tf.zeros((100,))\n",
    "print(tfs.run(a))"
   ]
  },
  {
   "cell_type": "markdown",
   "metadata": {},
   "source": [
    "# Close the interactive session"
   ]
  },
  {
   "cell_type": "code",
   "execution_count": 23,
   "metadata": {},
   "outputs": [],
   "source": [
    "tfs.close()"
   ]
  },
  {
   "cell_type": "markdown",
   "metadata": {},
   "source": [
    "# Computation Graphs"
   ]
  },
  {
   "cell_type": "markdown",
   "metadata": {},
   "source": [
    "## Building and Running simple computation graph"
   ]
  },
  {
   "cell_type": "code",
   "execution_count": 24,
   "metadata": {},
   "outputs": [
    {
     "name": "stdout",
     "output_type": "stream",
     "text": [
      "output :  [0.         0.3        0.6        0.90000004]\n"
     ]
    }
   ],
   "source": [
    "# Assume Linear Model y = w * x + b\n",
    "# Define model parameters\n",
    "w = tf.Variable([.3], tf.float32)\n",
    "b = tf.Variable([-.3], tf.float32)\n",
    "# Define model input and output\n",
    "x = tf.placeholder(tf.float32)\n",
    "y = w * x + b\n",
    "output = 0\n",
    "\n",
    "with tf.Session() as tfs:\n",
    "    # initialize and print the variable y\n",
    "    tf.global_variables_initializer().run()\n",
    "    output = tfs.run(y, {x: [1, 2, 3, 4]})\n",
    "print('output : ', output)"
   ]
  },
  {
   "cell_type": "markdown",
   "metadata": {},
   "source": [
    "## Graph on Compute Devices"
   ]
  },
  {
   "cell_type": "markdown",
   "metadata": {},
   "source": [
    "### List the devices available"
   ]
  },
  {
   "cell_type": "code",
   "execution_count": 25,
   "metadata": {},
   "outputs": [
    {
     "name": "stdout",
     "output_type": "stream",
     "text": [
      "[name: \"/device:CPU:0\"\n",
      "device_type: \"CPU\"\n",
      "memory_limit: 268435456\n",
      "locality {\n",
      "}\n",
      "incarnation: 17276089553867621096\n",
      ", name: \"/device:GPU:0\"\n",
      "device_type: \"GPU\"\n",
      "memory_limit: 14855356416\n",
      "locality {\n",
      "  bus_id: 1\n",
      "  links {\n",
      "  }\n",
      "}\n",
      "incarnation: 5054245287873480849\n",
      "physical_device_desc: \"device: 0, name: Quadro P5000, pci bus id: 0000:01:00.0, compute capability: 6.1\"\n",
      "]\n"
     ]
    }
   ],
   "source": [
    "from tensorflow.python.client import device_lib\n",
    "\n",
    "print(device_lib.list_local_devices())"
   ]
  },
  {
   "cell_type": "markdown",
   "metadata": {},
   "source": [
    "### Default placement"
   ]
  },
  {
   "cell_type": "code",
   "execution_count": 26,
   "metadata": {},
   "outputs": [
    {
     "name": "stdout",
     "output_type": "stream",
     "text": [
      "output [0.         0.3        0.6        0.90000004]\n"
     ]
    }
   ],
   "source": [
    "tf.reset_default_graph()\n",
    "\n",
    "# Define model parameters\n",
    "w = tf.get_variable(name='w', initializer=[.3], dtype=tf.float32)\n",
    "b = tf.get_variable(name='b', initializer=[-.3], dtype=tf.float32)\n",
    "# Define model input and output\n",
    "x = tf.placeholder(name='x', dtype=tf.float32)\n",
    "y = w * x + b\n",
    "\n",
    "config = tf.ConfigProto()\n",
    "config.log_device_placement = True\n",
    "\n",
    "with tf.Session(config=config) as tfs:\n",
    "    # initialize and print the variable y\n",
    "    tfs.run(tf.global_variables_initializer())\n",
    "    print('output', tfs.run(y, {x: [1, 2, 3, 4]}))"
   ]
  },
  {
   "cell_type": "markdown",
   "metadata": {},
   "source": [
    "### Placement on CPU"
   ]
  },
  {
   "cell_type": "code",
   "execution_count": 27,
   "metadata": {},
   "outputs": [
    {
     "name": "stdout",
     "output_type": "stream",
     "text": [
      "output [0.         0.3        0.6        0.90000004]\n"
     ]
    }
   ],
   "source": [
    "tf.reset_default_graph()\n",
    "\n",
    "with tf.device('/device:CPU:0'):\n",
    "    # Define model parameters\n",
    "    w = tf.get_variable(name='w', initializer=[.3], dtype=tf.float32)\n",
    "    b = tf.get_variable(name='b', initializer=[-.3], dtype=tf.float32)\n",
    "    # Define model input and output\n",
    "    x = tf.placeholder(name='x', dtype=tf.float32)\n",
    "    y = w * x + b\n",
    "\n",
    "config = tf.ConfigProto()\n",
    "config.log_device_placement = True\n",
    "\n",
    "with tf.Session(config=config) as tfs:\n",
    "    # initialize and print the variable y\n",
    "    tfs.run(tf.global_variables_initializer())\n",
    "    print('output', tfs.run(y, {x: [1, 2, 3, 4]}))"
   ]
  },
  {
   "cell_type": "markdown",
   "metadata": {},
   "source": [
    "### Placement on CPU and GPU"
   ]
  },
  {
   "cell_type": "code",
   "execution_count": null,
   "metadata": {},
   "outputs": [],
   "source": [
    "tf.reset_default_graph()\n",
    "\n",
    "with tf.device('/device:CPU:0'):\n",
    "    # Define model parameters\n",
    "    w = tf.get_variable(name='w', initializer=[.3], dtype=tf.float32)\n",
    "    b = tf.get_variable(name='b', initializer=[-.3], dtype=tf.float32)\n",
    "    # Define model input and output\n",
    "    x = tf.placeholder(name='x', dtype=tf.float32)\n",
    "with tf.device('/device:GPU:0'):\n",
    "    y = w * x + b\n",
    "\n",
    "config = tf.ConfigProto()\n",
    "config.log_device_placement = True\n",
    "\n",
    "with tf.Session(config=config) as tfs:\n",
    "    # initialize and print the variable y\n",
    "    tfs.run(tf.global_variables_initializer())\n",
    "    print('output', tfs.run(y, {x: [1, 2, 3, 4]}))"
   ]
  },
  {
   "cell_type": "markdown",
   "metadata": {},
   "source": [
    "## Executing Graph g as Default"
   ]
  },
  {
   "cell_type": "code",
   "execution_count": null,
   "metadata": {},
   "outputs": [],
   "source": [
    "g = tf.Graph()\n",
    "output = 0\n",
    "\n",
    "# Assume Linear Model y = w * x + b\n",
    "\n",
    "with g.as_default():\n",
    "    # Define model parameters\n",
    "    w = tf.Variable([.3], tf.float32)\n",
    "    b = tf.Variable([-.3], tf.float32)\n",
    "    # Define model input and output\n",
    "    x = tf.placeholder(tf.float32)\n",
    "    y = w * x + b\n",
    "\n",
    "with tf.Session(graph=g) as tfs:\n",
    "    # initialize and print the variable y\n",
    "    tf.global_variables_initializer().run()\n",
    "    output = tfs.run(y, {x: [1, 2, 3, 4]})\n",
    "\n",
    "print('output : ', output)"
   ]
  },
  {
   "cell_type": "markdown",
   "metadata": {},
   "source": [
    "# Logistic Regression with TensorFlow"
   ]
  },
  {
   "cell_type": "code",
   "execution_count": null,
   "metadata": {},
   "outputs": [],
   "source": [
    "# load dslib\n",
    "DSLIB_HOME = '../datasetslib'\n",
    "import sys\n",
    "if not DSLIB_HOME in sys.path:\n",
    "    sys.path.append(DSLIB_HOME)\n",
    "%reload_ext autoreload\n",
    "%autoreload 2\n",
    "import datasetslib as dslib\n",
    "\n",
    "# set the datasets root folder before you do the datasetslib import\n",
    "import os\n",
    "dslib.dsroot = os.path.join(os.path.expanduser('~'),'datasets')\n",
    "\n",
    "from datasetslib.utils import imutil\n",
    "from datasetslib.utils import nputil\n",
    "from datasetslib.mnist import MNIST"
   ]
  },
  {
   "cell_type": "code",
   "execution_count": null,
   "metadata": {},
   "outputs": [],
   "source": []
  },
  {
   "cell_type": "code",
   "execution_count": null,
   "metadata": {},
   "outputs": [],
   "source": [
    "mnist=MNIST()\n",
    "\n",
    "# prepare x and y data\n",
    "\n",
    "x_train,y_train,x_test,y_test=mnist.load_data()\n",
    "\n",
    "mnist.y_onehot = True\n",
    "mnist.x_layout = imutil.LAYOUT_NP\n",
    "x_test = mnist.load_images(x_test)\n",
    "y_test = nputil.onehot(y_test)\n",
    "\n",
    "print('Loaded x and y')\n",
    "print('Train: x:{}, y:{}'.format(len(x_train),y_train.shape))\n",
    "print('Test: x:{}, y:{}'.format(x_test.shape,y_test.shape))"
   ]
  },
  {
   "cell_type": "code",
   "execution_count": null,
   "metadata": {},
   "outputs": [],
   "source": [
    "# define hyperparameters\n",
    "learning_rate = 0.001\n",
    "n_epochs = 5\n",
    "mnist.batch_size = 100\n",
    "\n",
    "\n",
    "# reset the graph if you run this cell again\n",
    "tf.reset_default_graph()\n",
    "\n",
    "# define input images\n",
    "x = tf.placeholder(dtype=tf.float32, shape=[None, mnist.n_features])\n",
    "# define output labels\n",
    "y = tf.placeholder(dtype=tf.float32, shape=[None, mnist.n_classes])\n",
    "\n",
    "# model paramteres\n",
    "w = tf.Variable(tf.zeros([mnist.n_features, mnist.n_classes]))\n",
    "b = tf.Variable(tf.zeros([mnist.n_classes]))\n",
    "\n",
    "# the model itself\n",
    "logits = tf.add(tf.matmul(x, w), b)\n",
    "y_hat = tf.nn.softmax(logits)\n",
    "\n",
    "# define loss function for training\n",
    "epsilon = tf.keras.backend.epsilon()\n",
    "y_hat_clipped = tf.clip_by_value(y_hat, epsilon, 1 - epsilon)\n",
    "y_hat_log = tf.log(y_hat_clipped)\n",
    "cross_entropy = -tf.reduce_sum(y * y_hat_log, axis=1)\n",
    "loss_f = tf.reduce_mean(cross_entropy)\n",
    "\n",
    "optimizer = tf.train.GradientDescentOptimizer\n",
    "optimizer_f = optimizer(learning_rate=learning_rate).minimize(loss_f)\n",
    "\n",
    "# define accuracy function for testing\n",
    "predictions_check = tf.equal(tf.argmax(y_hat, 1), tf.argmax(y, 1))\n",
    "accuracy_f = tf.reduce_mean(tf.cast(predictions_check, tf.float32))\n",
    "\n",
    "# train and test\n",
    "n_batches = int(60000/mnist.batch_size)\n",
    "\n",
    "with tf.Session() as tfs:\n",
    "    tf.global_variables_initializer().run()\n",
    "    for epoch in range(n_epochs):\n",
    "        mnist.reset_index()\n",
    "        for batch in range(n_batches):\n",
    "            x_batch, y_batch = mnist.next_batch()\n",
    "            feed_dict={x: x_batch, y: y_batch}\n",
    "            batch_loss,_ = tfs.run([loss_f, optimizer_f],feed_dict=feed_dict )\n",
    "            #print('Batch loss:{}'.format(batch_loss))\n",
    "        \n",
    "        feed_dict = {x: x_test, y: y_test}\n",
    "        accuracy_score = tfs.run(accuracy_f, feed_dict=feed_dict)\n",
    "        print('epoch {0:04d}  accuracy={1:.8f}'\n",
    "              .format(epoch, accuracy_score))"
   ]
  },
  {
   "cell_type": "markdown",
   "metadata": {},
   "source": [
    "# Logistic Regression with Keras"
   ]
  },
  {
   "cell_type": "code",
   "execution_count": null,
   "metadata": {},
   "outputs": [],
   "source": [
    "x_train_im = mnist.load_images(x_train)\n",
    "\n",
    "x_train_im, x_test_im = x_train_im / 255.0, x_test / 255.0\n",
    "\n",
    "model = tf.keras.models.Sequential([\n",
    "  tf.keras.layers.Flatten(),\n",
    "  tf.keras.layers.Dense(10, activation=tf.nn.softmax)\n",
    "])\n",
    "model.compile(optimizer='sgd',\n",
    "              loss='sparse_categorical_crossentropy',\n",
    "              metrics=['accuracy'])\n",
    "\n",
    "model.fit(x_train_im, y_train, epochs=5)\n",
    "model.evaluate(x_test_im, nputil.argmax(y_test))"
   ]
  }
 ],
 "metadata": {
  "kernelspec": {
   "display_name": "Python 3",
   "language": "python",
   "name": "python3"
  },
  "language_info": {
   "codemirror_mode": {
    "name": "ipython",
    "version": 3
   },
   "file_extension": ".py",
   "mimetype": "text/x-python",
   "name": "python",
   "nbconvert_exporter": "python",
   "pygments_lexer": "ipython3",
   "version": "3.7.3"
  },
  "toc": {
   "base_numbering": 1,
   "nav_menu": {
    "height": "306px",
    "width": "240px"
   },
   "number_sections": true,
   "sideBar": true,
   "skip_h1_title": false,
   "title_cell": "Table of Contents",
   "title_sidebar": "Contents",
   "toc_cell": true,
   "toc_position": {},
   "toc_section_display": "block",
   "toc_window_display": true
  }
 },
 "nbformat": 4,
 "nbformat_minor": 2
}
