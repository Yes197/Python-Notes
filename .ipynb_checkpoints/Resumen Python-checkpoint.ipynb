{
 "cells": [
  {
   "cell_type": "markdown",
   "metadata": {},
   "source": [
    "# Programación orientada a objetos"
   ]
  },
  {
   "cell_type": "markdown",
   "metadata": {},
   "source": [
    "### Libros recomendados, editoriales: RC libros o alpha omega python - version 3 buscar actualizado :/"
   ]
  },
  {
   "cell_type": "markdown",
   "metadata": {},
   "source": [
    "En python todo es un objeto, por ende, puedes programar cualquier cosa. En un objeto se tienen 3 cosas: atributos o propiedades; métodos, también puede ser funciones pero en este caso deberían regresar un valor; por último, tienen un constructor.\n",
    "\n",
    "Una función es una operación que tiene que regresar un valor, tiene que tener un return. Cuando una función no necesita regresar un valor, esto ya es un método (operaciones que pueden llamarse y su objetivo es modificar los valores de los atributos). \n",
    "\n",
    "Para que exista un objeto primero debe haber una clase. Cuando definimos un objeto int, por ejemplo, ya existe una clase entero ya definida por python y por eso no tenemos que definirla, esto pasa cuando creamos una variable igual a 1. En este caso le estamos diciendo a python \"Crea un objeto de tipo entero y que sea igual a 1\"."
   ]
  },
  {
   "cell_type": "markdown",
   "metadata": {},
   "source": [
    "Despues de un punto y con el nombre de la propiedad es como podemos acceder a las propiedades del objeto Pepe. Todos los objetos tienen un nombre único.\n",
    "\n",
    "Las clases también tienen métodos y se definen con la palabra def, los métodos usualmente se nombran como verbos infinitivos. Las propiedades de un objeto son sus atributos."
   ]
  },
  {
   "cell_type": "code",
   "execution_count": 3,
   "metadata": {},
   "outputs": [
    {
     "name": "stdout",
     "output_type": "stream",
     "text": [
      "0\n"
     ]
    }
   ],
   "source": [
    "class Persona:\n",
    "    nombre = \"\"\n",
    "    edad = 0\n",
    "    pais = \"\"\n",
    "    \n",
    "    def saludar(self): # el parametro del mismo objeto es el self, se ve como: se ejecuta para el mismo objeto\n",
    "        print(\"Hola mi nombre es \", self.nombre) # el self está haciendo referencia al mismo objeto, al mismo contexto\n",
    "    \n",
    "    def despedir(self): # segundo método\n",
    "        print(\"Hasta pronto\")\n",
    "    \n",
    "pepe = Persona()\n",
    "print(pepe.edad) "
   ]
  },
  {
   "cell_type": "markdown",
   "metadata": {},
   "source": [
    "Las clases están formadas por 2 partes atributos y métodos. Son opcionales, puede tener sólo atributos o sólo métodos. Los atributos son los que se modifican en los métodos. Los métodos existen para modificar las propiedades de los métodos, pero en realidad existen métodos que no siempre van a modificar las propiedades, por ejemplo, los métodos que hemos creado no modifican nada."
   ]
  },
  {
   "cell_type": "markdown",
   "metadata": {},
   "source": [
    "Si corremos con la linea 12 sin el paréntesis (pepe = Persona y no pepe = Persona()) estariamos manejando un tipo no un objeto, pepe no sería un objeto. El siguiente código sale error."
   ]
  },
  {
   "cell_type": "code",
   "execution_count": 1,
   "metadata": {},
   "outputs": [
    {
     "ename": "TypeError",
     "evalue": "saludar() missing 1 required positional argument: 'self'",
     "output_type": "error",
     "traceback": [
      "\u001b[1;31m---------------------------------------------------------------------------\u001b[0m",
      "\u001b[1;31mTypeError\u001b[0m                                 Traceback (most recent call last)",
      "\u001b[1;32m<ipython-input-1-5da68a530d9a>\u001b[0m in \u001b[0;36m<module>\u001b[1;34m\u001b[0m\n\u001b[0;32m     11\u001b[0m \u001b[1;33m\u001b[0m\u001b[0m\n\u001b[0;32m     12\u001b[0m \u001b[0mpepe\u001b[0m \u001b[1;33m=\u001b[0m \u001b[0mPersona\u001b[0m \u001b[1;31m# aqui el objeto no acabo su proceso de existir\u001b[0m\u001b[1;33m\u001b[0m\u001b[1;33m\u001b[0m\u001b[0m\n\u001b[1;32m---> 13\u001b[1;33m \u001b[0mpepe\u001b[0m\u001b[1;33m.\u001b[0m\u001b[0msaludar\u001b[0m\u001b[1;33m(\u001b[0m\u001b[1;33m)\u001b[0m\u001b[1;33m\u001b[0m\u001b[1;33m\u001b[0m\u001b[0m\n\u001b[0m",
      "\u001b[1;31mTypeError\u001b[0m: saludar() missing 1 required positional argument: 'self'"
     ]
    }
   ],
   "source": [
    "class Persona:\n",
    "    nombre = \"\"\n",
    "    edad = 0\n",
    "    pais = \"\"\n",
    "    \n",
    "    def saludar(self): \n",
    "        print(\"Hola mi nombre es \", self.nombre) \n",
    "    \n",
    "    def despedir(self):\n",
    "        print(\"Hasta pronto\")\n",
    "    \n",
    "pepe = Persona # aqui el objeto no acabo su proceso de existir\n",
    "pepe.saludar()"
   ]
  },
  {
   "cell_type": "markdown",
   "metadata": {},
   "source": [
    "Pero si colocamos en lugar del método una propiedad si imprime. Cuando definimos pepe = Persona hemos creado un tipo de Persona llamado pepe, no un objeto, es como si no tuviera vida y por ello no tiene el \"self\", esto se da cuando es un objeto."
   ]
  },
  {
   "cell_type": "code",
   "execution_count": 2,
   "metadata": {},
   "outputs": [
    {
     "name": "stdout",
     "output_type": "stream",
     "text": [
      "0\n"
     ]
    }
   ],
   "source": [
    "class Persona:\n",
    "    nombre = \"\"\n",
    "    edad = 0\n",
    "    pais = \"\"\n",
    "    \n",
    "    def saludar(self): \n",
    "        print(\"Hola mi nombre es \", self.nombre) \n",
    "    \n",
    "    def despedir(self):\n",
    "        print(\"Hasta pronto\")\n",
    "    \n",
    "pepe = Persona # estamos creando un tipo de Persona no un objeto de Persona\n",
    "print(pepe.edad) # aquí si imprime las propiedades"
   ]
  },
  {
   "cell_type": "markdown",
   "metadata": {},
   "source": [
    "En cambio, si queremos crear un objeto (algo que tiene \"vida\") si podremos usar el parámetro self y no nos saldrá error al usar los métodos."
   ]
  },
  {
   "cell_type": "code",
   "execution_count": 5,
   "metadata": {},
   "outputs": [
    {
     "name": "stdout",
     "output_type": "stream",
     "text": [
      "Hola mi nombre es  \n"
     ]
    }
   ],
   "source": [
    "class Persona:\n",
    "    nombre = \"\"\n",
    "    edad = 0\n",
    "    pais = \"\"\n",
    "    \n",
    "    def saludar(self): \n",
    "        print(\"Hola mi nombre es \", self.nombre) \n",
    "    \n",
    "    def despedir(self):\n",
    "        print(\"Hasta pronto\")\n",
    "    \n",
    "pepe = Persona() # aqui el objeto existe\n",
    "pepe.saludar()"
   ]
  },
  {
   "cell_type": "markdown",
   "metadata": {},
   "source": [
    "Toda programación orientada a objetos tiene un método que se llama constructor. El constructor es como la labor de parto de un niño (que sería representado por el objeto), para que un objeto cobre vida debe pasar por un proceso, este proceso es el constructor. El constructor siempre tiene el mismo nombre de la clase, por ejemplo, si la clase se llama Persona el constructor se llama Persona. Aunque en python existe una diferencia relevante, para el caso de **init** se tiene la discusión de que no es un constructor.\n",
    "\n",
    "El constructor es la última oportunidad de modificar las propiedades del objeto antes de que se cree."
   ]
  },
  {
   "cell_type": "code",
   "execution_count": 6,
   "metadata": {},
   "outputs": [
    {
     "name": "stdout",
     "output_type": "stream",
     "text": [
      "Mexico Jose 10\n",
      "Hola mi nombre es  Jose\n"
     ]
    }
   ],
   "source": [
    "class Persona:\n",
    "    # las propiedades - opcional\n",
    "    nombre = \"\"\n",
    "    edad = 0\n",
    "    pais = \"\"    \n",
    "    \n",
    "    # el constructor o inicializador - opcional\n",
    "    def __init__(self, nombre, edad, pais): # cuando se cree un objeto debes pasar el objeto es decir el \"self\", y las \n",
    "        # propiedades como el nombre, edad y pais\n",
    "        self.nombre = nombre\n",
    "        self.edad = edad\n",
    "        self.pais = pais\n",
    "    \n",
    "    # los métodos  - opcional\n",
    "    def saludar(self): \n",
    "        print(\"Hola mi nombre es \", self.nombre) \n",
    "    \n",
    "    def despedir(self):\n",
    "        print(\"Hasta pronto\")\n",
    "    \n",
    "persona = Persona(\"Jose\", 10, \"Mexico\")\n",
    "print(persona.pais, persona.nombre, persona.edad) # este es el constructor, no me dejara crear el objeto si es que no le\n",
    "# paso los 3 argumentos que le indique que tiene que usar \n",
    "\n",
    "persona.saludar() # El objeto persona ya tiene los valores inicializados"
   ]
  },
  {
   "cell_type": "markdown",
   "metadata": {},
   "source": [
    "Python al ser un lenguaje orientado a objetos soportan la herencia múltiple, es decir, que un objeto puede tener más de 1 padre. La herencia se hace entre paréntesis, entre esos paréntesis se colocan los padres. En el siguiente código la clase Estudiante es hijo de la clase Persona, entonces hereda todos lo que tiene Persona y además las propiedades propias de la clase Estudiante. Debido a la herencia no tenemos que escribir lo mismo varias veces.\n",
    "\n",
    "Cuando tiene 1 solo padre es llamado herencia simple y si tiene más de 2 padres es herencia múltiple, por ello en la línea 24 significa que tiene 2 padres, Persona y Empleado y hereda todas sus propiedades, constructores y métodos. \n",
    "\n",
    "Por último, un método **puede llamar a otro método** como se puede ver en la línea 21 del siguiente código."
   ]
  },
  {
   "cell_type": "code",
   "execution_count": null,
   "metadata": {},
   "outputs": [],
   "source": [
    "class Persona:\n",
    "    # las propiedades - opcional\n",
    "    nombre = \"\"\n",
    "    edad = 0\n",
    "    pais = \"\"    \n",
    "    \n",
    "    # el constructor o inicializador - opcional\n",
    "    def __init__(self, nombre, edad, pais): \n",
    "        # propiedades como el nombre, edad y pais\n",
    "        self.nombre = nombre\n",
    "        self.edad = edad\n",
    "        self.pais = pais\n",
    "    \n",
    "    # los métodos  - opcional\n",
    "    def saludar(self): \n",
    "        print(\"Hola mi nombre es \", self.nombre) \n",
    "    \n",
    "    def despedir(self):\n",
    "        print(\"Hasta pronto\")\n",
    "        \n",
    "    def comprar(self):\n",
    "        self.saludar() # estoy llamando al método saludar desde comprar\n",
    "        print(\"Puedo comprar X cosa\")\n",
    "\n",
    "class Empleado:\n",
    "    trabajo = \"\"\n",
    "    \n",
    "class Estudiante(Persona, Empleado): # aqui se es entiende que el objeto Estudiante es hijo de Persona y de Empleado\n",
    "    escuela = \"\"\n",
    "    \n",
    "# El objeto estudiante puede usar los métodos de su padre debido a la herencia\n",
    "estudiante = Estudiante(\"Jose\", 10, \"Mexico\")\n",
    "\n",
    "print(estudiante.nombre, estudiante.edad, estudiante.pais)\n",
    "#estudiante.saludar()\n",
    "#estudiante.despedir()\n",
    "estudiante.comprar() # el método tiene 2 instrucciones, manda llamar dentro del mismo objeto otra funcion llamada\n",
    "# saludar y manda imprimir el puedo comprar X cosa"
   ]
  },
  {
   "cell_type": "code",
   "execution_count": null,
   "metadata": {},
   "outputs": [],
   "source": [
    "class Persona:\n",
    "    # las propiedades - opcional\n",
    "    nombre = \"\"\n",
    "    edad = 0\n",
    "    pais = \"\"    \n",
    "    \n",
    "    # el constructor o inicializador - opcional\n",
    "    def __init__(self, nombre, edad, pais): \n",
    "        # propiedades como el nombre, edad y pais\n",
    "        self.nombre = nombre\n",
    "        self.edad = edad\n",
    "        self.pais = pais\n",
    "    \n",
    "    # los métodos  - opcional\n",
    "    def saludar(self): \n",
    "        print(\"Hola mi nombre es \", self.nombre) \n",
    "    \n",
    "    def despedir(self):\n",
    "        print(\"Hasta pronto\")\n",
    "        \n",
    "    def comprar(self):\n",
    "        self.saludar() # estoy llamando al método saludar desde comprar\n",
    "        print(\"Puedo comprar X cosa\")\n",
    "\n",
    "class Empleado:\n",
    "    trabajo = \"\"\n",
    "    \n",
    "    def __init__(self, nombre, edad): # he creado el contructor o iniciador \"init\"\n",
    "        self.nombre = nombre\n",
    "        self.edad = edad\n",
    "    \n",
    "class Estudiante(Empleado, Persona): # toma como padre o método principal Empleado y Persona es el padre N°2\n",
    "    # por ello el error nos pide 2 argumentos (los de Empleado) y no 3 (los de Persona)\n",
    "    escuela = \"\"\n",
    "    \n",
    "estudiante = Estudiante()\n"
   ]
  },
  {
   "cell_type": "markdown",
   "metadata": {},
   "source": [
    "# Escritura y lectura de Ficheros"
   ]
  },
  {
   "cell_type": "markdown",
   "metadata": {},
   "source": [
    "El nombre datos.txt es libre, el modo abrir es 'w' que indica modo de escritura. Cuando un archivo no existe y lo abres en modo de escritura entonces crea el archivo; pero abres un archivo que no existe en modo de lectura este modo se llama readable, te saldrá un error. \n",
    "\n",
    "Si el archivo ya existe y lo abres en modo de escritura entonces lo va a sobreescribir. Existen otros métodos para abrir un archivo que ya existe y que no lo sobreescriba sino que le agregue lo que escribes cada vez que lo abres y este modo se llama append."
   ]
  },
  {
   "cell_type": "code",
   "execution_count": 47,
   "metadata": {},
   "outputs": [
    {
     "name": "stdout",
     "output_type": "stream",
     "text": [
      "Joseeeeeeee :v\n",
      "\n",
      "32334324324\n",
      "\n",
      "Cancun\n"
     ]
    }
   ],
   "source": [
    "def crear_archivo():\n",
    "    archivo = open('datos.txt', 'w') # este archivo por defecto se creara en la ruta donde se encuentra este archivo\n",
    "    archivo.close()\n",
    "    \n",
    "def escribir_archivo():\n",
    "    archivo = open('datos.txt', 'a') # modo append\n",
    "    archivo.write('Joseeeeeeee :v\\n')\n",
    "    archivo.write('32334324324\\n')\n",
    "    archivo.write('Cancun')\n",
    "\n",
    "def leer_archivo():\n",
    "    archivo = open('datos.txt', 'r') # modo lectura\n",
    "    linea = archivo.readline()\n",
    "    while linea != \"\":\n",
    "        print(linea)\n",
    "        linea = archivo.readline()\n",
    "    archivo.close()\n",
    "\n",
    "    \n",
    "crear_archivo()\n",
    "escribir_archivo()\n",
    "leer_archivo()"
   ]
  }
 ],
 "metadata": {
  "kernelspec": {
   "display_name": "Python 3",
   "language": "python",
   "name": "python3"
  },
  "language_info": {
   "codemirror_mode": {
    "name": "ipython",
    "version": 3
   },
   "file_extension": ".py",
   "mimetype": "text/x-python",
   "name": "python",
   "nbconvert_exporter": "python",
   "pygments_lexer": "ipython3",
   "version": "3.7.3"
  }
 },
 "nbformat": 4,
 "nbformat_minor": 2
}
