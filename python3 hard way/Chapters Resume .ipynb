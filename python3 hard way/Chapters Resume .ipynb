{
 "cells": [
  {
   "cell_type": "markdown",
   "metadata": {},
   "source": [
    "# PYTHON 3 THE HARD WAY"
   ]
  },
  {
   "cell_type": "markdown",
   "metadata": {},
   "source": [
    "Empezamos con resumen de los capítulos 1 y 2."
   ]
  },
  {
   "cell_type": "markdown",
   "metadata": {},
   "source": [
    "### Cap 1 - \"Exercise 1\""
   ]
  },
  {
   "cell_type": "markdown",
   "metadata": {},
   "source": [
    "Notar la diferencia entre las comillas dobles o simples para cambiar el resultado de la salida."
   ]
  },
  {
   "cell_type": "code",
   "execution_count": 1,
   "metadata": {},
   "outputs": [
    {
     "name": "stdout",
     "output_type": "stream",
     "text": [
      "Hello World!\n",
      "Yay! Printing.\n",
      "I'd much rather you 'not'.\n",
      "I \"said\" do not touch this.\n"
     ]
    }
   ],
   "source": [
    "print(\"Hello World!\")\n",
    "print('Yay! Printing.')\n",
    "print(\"I'd much rather you 'not'.\")\n",
    "print('I \"said\" do not touch this.')"
   ]
  },
  {
   "cell_type": "markdown",
   "metadata": {},
   "source": [
    "### Cap 2 - \"Exercise 2\""
   ]
  },
  {
   "cell_type": "markdown",
   "metadata": {},
   "source": [
    "Para realizar comentarios en el código. El consejo del autor es que lean desde la última línea y desde la última palabra hasta la primera. Este truco ayuda a que el cerebro no se ate significado a cada parte del código y en cambio procese exactamente cada pieza."
   ]
  },
  {
   "cell_type": "code",
   "execution_count": 4,
   "metadata": {},
   "outputs": [
    {
     "name": "stdout",
     "output_type": "stream",
     "text": [
      "I could have code like this.\n",
      "Hi # there.\n"
     ]
    }
   ],
   "source": [
    "# Anything after the # is ignored by python.\n",
    "\n",
    "print(\"I could have code like this.\") # and the comment after is ignored\n",
    "\n",
    "# You can also use a comment to \"disable\" or comment out code:\n",
    "# print(\"This won't run.\")\n",
    "print(\"Hi # there.\")"
   ]
  },
  {
   "cell_type": "markdown",
   "metadata": {},
   "source": [
    "### Cap 3 - \"Exercise 3\""
   ]
  },
  {
   "cell_type": "markdown",
   "metadata": {},
   "source": [
    "Los Símbolos matemáticos son mostrados a continuación. El orden de las operaciones es de acuerdo al acrónimo usado en EEUU llamado PEMDAS (Parentheses Exponents Multiplication Division Addition Subtraction). PEMDAS tiene el orden de la multiplicación y dividisión en un paso desde la izquierda a derecha, luego, la adición y substracción en un paso de la izquierda a derecha. Así que se puede reescribir como PE(M&D)(A&S).<br>\n",
    "\\+ más <br>\n",
    "\\- menos <br>\n",
    "/ slash <br>\n",
    "\\* asterisco <br>\n",
    "% porcentaje <br>\n",
    "< menor a <br>\n",
    "\\> mayor a <br>\n",
    "<= menor igual a <br>\n",
    "\\>= mayor igual a"
   ]
  },
  {
   "cell_type": "code",
   "execution_count": 5,
   "metadata": {},
   "outputs": [
    {
     "name": "stdout",
     "output_type": "stream",
     "text": [
      "6.75\n",
      "Is it true that 3 + 2 < 5 - 7\n",
      "False\n",
      "What is 3 + 2? 5\n",
      "What is 5 - 7? -2\n",
      "Oh, that's why it's False.\n",
      "How about some more.\n",
      "Is it greater? True\n",
      "Is it greater or equal? True\n",
      "Is it less or equal? False\n"
     ]
    }
   ],
   "source": [
    "print(3 + 2 + 1 - 5 + 4 % 2 - 1 / 4 + 6)\n",
    "\n",
    "print(\"Is it true that 3 + 2 < 5 - 7\")\n",
    "\n",
    "print(3 + 2 < 5 - 7)\n",
    "\n",
    "print(\"What is 3 + 2?\", 3 + 2)\n",
    "print(\"What is 5 - 7?\", 5 - 7)\n",
    "\n",
    "print(\"Oh, that's why it's False.\")\n",
    "\n",
    "print(\"How about some more.\")\n",
    "\n",
    "print(\"Is it greater?\", 5 > -2)\n",
    "print(\"Is it greater or equal?\", 5 >= -2)\n",
    "print(\"Is it less or equal?\", 5 <= -2)"
   ]
  },
  {
   "cell_type": "markdown",
   "metadata": {},
   "source": [
    "### Cap 4 - \"Exercise 4\""
   ]
  },
  {
   "cell_type": "markdown",
   "metadata": {},
   "source": [
    "Las variables son nombres para algo. Si no se usaran buenos nombres los programadores se perderían cuando intenten volver a leer su código. Escribir comentarios sobre qué significa cada línea. \n",
    "Existe una diferencia entre = y ==; la primera asigna el valor de la derecha a una variable de la izquierda. Y la == verifica si dos cosas tienen el mismo valor. Se verá mas en el ejercicio 27.\n",
    "Es una buena práctica añadir espacios alrededor de operadores como = para que sea más fácil de leer."
   ]
  },
  {
   "cell_type": "code",
   "execution_count": null,
   "metadata": {
    "collapsed": true
   },
   "outputs": [],
   "source": [
    "cars = 100 #Asignar el valor int 100 a la variable cars\n",
    "space_in_a_car = 4.0 #Asignar el valor float 4.0 a la variable cars\n",
    "drivers = 30\n",
    "passengers = 90\n",
    "cars_not_driven = cars - drivers #hallar la variable cars_not_driven restando cantidad de carros con los conductores\n",
    "cars_driven = drivers #carros conducidos es igual a la cantidad de conductores\n",
    "carpool_capacity = cars_driven * space_in_a_car #la capacidad de Carpool es igual a los carros conducidos multiplicado \n",
    "                                                #por el espacio que tiene el carro\n",
    "average_passengers_per_car = passengers / cars_driven #pasajeros por carro es la cantidad de pasajeros entre los carros \n",
    "#conducidos considerando cantidad igual de pasajeros por carro\n",
    "print(\"There are\", cars, \"cars available.\")\n",
    "print(\"There are only\", drivers, \"drivers available.\")\n",
    "print(\"There will be\", cars_not_driven, \"empty cars today.\")\n",
    "print(\"We can transport\", carpool_capacity, \"people today.\")\n",
    "print(\"We have\", passengers, \"to carpool today.\")\n",
    "print(\"We need to put about\", average_passengers_per_car, \"in each car.\")"
   ]
  },
  {
   "cell_type": "markdown",
   "metadata": {},
   "source": [
    "### Cap 5 - \"Exercise 5\""
   ]
  },
  {
   "cell_type": "markdown",
   "metadata": {},
   "source": [
    "Usaremos el **\"formato string\"**. Cuando se colocan \"\" doble comillas alrededor de un texto estás creando un string. Un string es como haces algo que tu programa podría darle a un humano. Tu imprimes strings, guardas strings en archivos, envias strings a servidores web y otras cosas más.\n",
    "En este ejercicio vas a aprender como hacer strings que tengan variables incrustadas en ellas. Incrustas variables dentro de un string usando una secuencia especial y luego pones la variable que quieres dentro de **{ }**, también deberas empezar el string con la letra __f__ de \"formato\". Estos caracteres le dicen a python 3 \"Este string necesita ser formateado pon estas variables ahí\"."
   ]
  },
  {
   "cell_type": "code",
   "execution_count": 1,
   "metadata": {},
   "outputs": [
    {
     "name": "stdout",
     "output_type": "stream",
     "text": [
      "Let's talk about Zed A. Shaw.\n",
      "He's 74 inches tall.\n",
      "He's 187.96 centimeters tall.\n",
      "He's 180 pounds heavy.\n",
      "He's 81.64656 kilograms heavy.\n",
      "Actually that's not too heavy.\n",
      "He's got Blue eyes and Brown hair.\n",
      "His teeth are usually White depending on the coffee.\n",
      "If I add 35, 74, and 180 I get 289\n"
     ]
    }
   ],
   "source": [
    "my_name = 'Zed A. Shaw'\n",
    "my_age = 35 #not a lie\n",
    "my_height = 74 # inches\n",
    "height_cm = my_height * 2.54\n",
    "my_weight = 180 # lbs\n",
    "weight_kg = my_weight * 0.453592\n",
    "my_eyes = 'Blue'\n",
    "my_teeth = 'White'\n",
    "my_hair = 'Brown'\n",
    "\n",
    "print(f\"Let's talk about {my_name}.\")\n",
    "print(f\"He's {my_height} inches tall.\")\n",
    "print(f\"He's {height_cm} centimeters tall.\")\n",
    "print(f\"He's {my_weight} pounds heavy.\")\n",
    "print(f\"He's {weight_kg} kilograms heavy.\")\n",
    "print(\"Actually that's not too heavy.\")\n",
    "print(f\"He's got {my_eyes} eyes and {my_hair} hair.\")\n",
    "print(f\"His teeth are usually {my_teeth} depending on the coffee.\")\n",
    "\n",
    "# this line is tricky, try to get it exactly right\n",
    "total = my_age + my_height + my_weight\n",
    "print(f\"If I add {my_age}, {my_height}, and {my_weight} I get {total}\")"
   ]
  },
  {
   "cell_type": "code",
   "execution_count": 2,
   "metadata": {},
   "outputs": [
    {
     "data": {
      "text/plain": [
       "2"
      ]
     },
     "execution_count": 2,
     "metadata": {},
     "output_type": "execute_result"
    }
   ],
   "source": [
    "round(1.73333) #puedes redondear el número así"
   ]
  },
  {
   "cell_type": "markdown",
   "metadata": {},
   "source": [
    "### Cap 6 - \"Exercise 6\""
   ]
  },
  {
   "cell_type": "markdown",
   "metadata": {
    "collapsed": true
   },
   "source": [
    "En este ejercicio crearemos un monton de variables con complejos strings para que aprendas para qué son. Un string es usualmente un bit de texto que quires mostrar a alguien o \"exportar\" fuera del programa que estas escribiendo. Python reconoce el string ya sea que uses \"\" o '' alrededor de texto. Los strings pueden contener cualquier número de variables que estan en tu script de Python. Recuerda que una variable es cualquier linea de codigo donde tu configuras un nombre igual = a un valor. En el código para este ejercicio, types_of_people = 10 crea una variable llamada types_of_people y la configura igual a 10. Puedes poner eso en cualquier string con {types_of_people} siempre y cuando usemos el formato f; se le llama un f-string y luce así:"
   ]
  },
  {
   "cell_type": "markdown",
   "metadata": {},
   "source": [
    "f\"some stuff here { avariable }\" <br>\n",
    "f\"some other stuff { anothervariable }\""
   ]
  },
  {
   "cell_type": "markdown",
   "metadata": {},
   "source": [
    "Python tiene otro tipo de formato usando la sintaxis **.format ()** que verás en la línea 17. Eso será usado cuando aplicamos un formato a un string que ya se ha creado, por ejemplo podriamos usarlo dentro de un loop. El código a continuación presenta 5 strings que tienen dentro otro string."
   ]
  },
  {
   "cell_type": "code",
   "execution_count": null,
   "metadata": {
    "collapsed": true
   },
   "outputs": [],
   "source": [
    "types_of_people = 10\n",
    "x = f\"There are {types_of_people} types of people.\" #x es una variable string con variables incrustado\n",
    "\n",
    "binary = \"binary\"\n",
    "do_not = \"don't\"\n",
    "y = f\"Those who know {binary} and those who {do_not}.\" #Otra vez variables incrustadas\n",
    "\n",
    "print(x)\n",
    "print(y)\n",
    "\n",
    "print(f\"I said: {x}\")\n",
    "print(f\"I also said: '{y}'\") #Esto es un string con variables incrustadas\n",
    "\n",
    "hilarious = False\n",
    "joke_evaluation = \"Isn't that joke so funny?! {}\" #se coloca {} para poder usar .format e incrustar la variable hilarious más adelante\n",
    "\n",
    "print(joke_evaluation.format(hilarious)) #Utilizamos .format para incrustar al string la variable hilarious\n",
    "\n",
    "w = \"This is the left side of...\"\n",
    "e = \"a string with a right side.\"\n",
    "\n",
    "print(w + e)\n"
   ]
  },
  {
   "cell_type": "markdown",
   "metadata": {},
   "source": [
    "### Cap 7 - \"Exercise 7\""
   ]
  },
  {
   "cell_type": "code",
   "execution_count": null,
   "metadata": {
    "collapsed": true
   },
   "outputs": [],
   "source": [
    "# Más ejercicios !!\n"
   ]
  },
  {
   "cell_type": "markdown",
   "metadata": {},
   "source": [
    "### Cap 8 - \"Exercise 8\""
   ]
  },
  {
   "cell_type": "markdown",
   "metadata": {},
   "source": [
    "Veremos como hacer más formatos complicados a un string. En este ejercicio "
   ]
  },
  {
   "cell_type": "code",
   "execution_count": null,
   "metadata": {
    "collapsed": true
   },
   "outputs": [],
   "source": [
    "formatter = \"{} {} {} {}\"\n",
    "\n",
    "print(formatter.format(1, 2, 3, 4))\n",
    "print(formatter.format(\"one\", \"two\", \"three\", \"four\"))\n",
    "print(formatter.format(True, False, False, True))\n",
    "print(formatter.format(formatter, formatter, formatter, formatter))\n",
    "print(formatter.format(\n",
    "    \"Try your\",\n",
    "    \"Own text here\",\n",
    "    \"Maybe a poem\",\n",
    "    \"Or a song about fear\"\n",
    "))\n"
   ]
  },
  {
   "cell_type": "code",
   "execution_count": null,
   "metadata": {
    "collapsed": true
   },
   "outputs": [],
   "source": []
  }
 ],
 "metadata": {
  "kernelspec": {
   "display_name": "Python 3",
   "language": "python",
   "name": "python3"
  },
  "language_info": {
   "codemirror_mode": {
    "name": "ipython",
    "version": 3
   },
   "file_extension": ".py",
   "mimetype": "text/x-python",
   "name": "python",
   "nbconvert_exporter": "python",
   "pygments_lexer": "ipython3",
   "version": "3.6.1"
  }
 },
 "nbformat": 4,
 "nbformat_minor": 2
}
