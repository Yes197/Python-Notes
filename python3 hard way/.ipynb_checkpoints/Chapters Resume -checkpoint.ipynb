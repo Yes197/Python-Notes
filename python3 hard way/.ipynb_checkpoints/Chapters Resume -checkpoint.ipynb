{
 "cells": [
  {
   "cell_type": "markdown",
   "metadata": {},
   "source": [
    "# PYTHON 3 THE HARD WAY"
   ]
  },
  {
   "cell_type": "markdown",
   "metadata": {},
   "source": [
    "### Cap 1 - \"Exercise 1\""
   ]
  },
  {
   "cell_type": "markdown",
   "metadata": {},
   "source": [
    "Notar la diferencia entre las comillas dobles o simples para cambiar el resultado de la salida."
   ]
  },
  {
   "cell_type": "code",
   "execution_count": null,
   "metadata": {},
   "outputs": [],
   "source": [
    "print(\"Hello World!\")\n",
    "print('Yay! Printing.')\n",
    "print(\"I'd much rather you 'not'.\")\n",
    "print('I \"said\" do not touch this.')"
   ]
  },
  {
   "cell_type": "markdown",
   "metadata": {},
   "source": [
    "### Cap 2 - \"Exercise 2\""
   ]
  },
  {
   "cell_type": "markdown",
   "metadata": {},
   "source": [
    "Para realizar comentarios en el código. El consejo del autor es que lean desde la última línea y desde la última palabra hasta la primera. Este truco ayuda a que el cerebro no se ate significado a cada parte del código y en cambio procese exactamente cada pieza."
   ]
  },
  {
   "cell_type": "code",
   "execution_count": null,
   "metadata": {},
   "outputs": [],
   "source": [
    "# Anything after the # is ignored by python.\n",
    "\n",
    "print(\"I could have code like this.\") # and the comment after is ignored\n",
    "\n",
    "# You can also use a comment to \"disable\" or comment out code:\n",
    "# print(\"This won't run.\")\n",
    "print(\"Hi # there.\")"
   ]
  },
  {
   "cell_type": "markdown",
   "metadata": {},
   "source": [
    "### Cap 3 - \"Exercise 3\""
   ]
  },
  {
   "cell_type": "markdown",
   "metadata": {},
   "source": [
    "Los Símbolos matemáticos son mostrados a continuación. El orden de las operaciones es de acuerdo al acrónimo usado en EEUU llamado PEMDAS (Parentheses Exponents Multiplication Division Addition Subtraction). PEMDAS tiene el orden de la multiplicación y dividisión en un paso desde la izquierda a derecha, luego, la adición y substracción en un paso de la izquierda a derecha. Así que se puede reescribir como PE(M&D)(A&S).<br>\n",
    "\\+ más <br>\n",
    "\\- menos <br>\n",
    "/ slash <br>\n",
    "\\* asterisco <br>\n",
    "% porcentaje <br>\n",
    "< menor a <br>\n",
    "\\> mayor a <br>\n",
    "<= menor igual a <br>\n",
    "\\>= mayor igual a"
   ]
  },
  {
   "cell_type": "code",
   "execution_count": null,
   "metadata": {},
   "outputs": [],
   "source": [
    "print(3 + 2 + 1 - 5 + 4 % 2 - 1 / 4 + 6)\n",
    "\n",
    "print(\"Is it true that 3 + 2 < 5 - 7\")\n",
    "\n",
    "print(3 + 2 < 5 - 7)\n",
    "\n",
    "print(\"What is 3 + 2?\", 3 + 2)\n",
    "print(\"What is 5 - 7?\", 5 - 7)\n",
    "\n",
    "print(\"Oh, that's why it's False.\")\n",
    "\n",
    "print(\"How about some more.\")\n",
    "\n",
    "print(\"Is it greater?\", 5 > -2)\n",
    "print(\"Is it greater or equal?\", 5 >= -2)\n",
    "print(\"Is it less or equal?\", 5 <= -2)"
   ]
  },
  {
   "cell_type": "markdown",
   "metadata": {},
   "source": [
    "### Cap 4 - \"Exercise 4\""
   ]
  },
  {
   "cell_type": "markdown",
   "metadata": {},
   "source": [
    "Las variables son nombres para algo. Si no se usaran buenos nombres los programadores se perderían cuando intenten volver a leer su código. Escribir comentarios sobre qué significa cada línea. \n",
    "Existe una diferencia entre = y ==; la primera asigna el valor de la derecha a una variable de la izquierda. Y la == verifica si dos cosas tienen el mismo valor. Se verá mas en el ejercicio 27.\n",
    "Es una buena práctica añadir espacios alrededor de operadores como = para que sea más fácil de leer."
   ]
  },
  {
   "cell_type": "code",
   "execution_count": null,
   "metadata": {},
   "outputs": [],
   "source": [
    "cars = 100 #Asignar el valor int 100 a la variable cars\n",
    "space_in_a_car = 4.0 #Asignar el valor float 4.0 a la variable cars\n",
    "drivers = 30\n",
    "passengers = 90\n",
    "cars_not_driven = cars - drivers #hallar la variable cars_not_driven restando cantidad de carros con los conductores\n",
    "cars_driven = drivers #carros conducidos es igual a la cantidad de conductores\n",
    "carpool_capacity = cars_driven * space_in_a_car #la capacidad de Carpool es igual a los carros conducidos multiplicado \n",
    "                                                #por el espacio que tiene el carro\n",
    "average_passengers_per_car = passengers / cars_driven #pasajeros por carro es la cantidad de pasajeros entre los carros \n",
    "#conducidos considerando cantidad igual de pasajeros por carro\n",
    "print(\"There are\", cars, \"cars available.\")\n",
    "print(\"There are only\", drivers, \"drivers available.\")\n",
    "print(\"There will be\", cars_not_driven, \"empty cars today.\")\n",
    "print(\"We can transport\", carpool_capacity, \"people today.\")\n",
    "print(\"We have\", passengers, \"to carpool today.\")\n",
    "print(\"We need to put about\", average_passengers_per_car, \"in each car.\")"
   ]
  },
  {
   "cell_type": "markdown",
   "metadata": {},
   "source": [
    "### Cap 5 - \"Exercise 5\""
   ]
  },
  {
   "cell_type": "markdown",
   "metadata": {},
   "source": [
    "Usaremos el **\"formato string\"**. Cuando se colocan \"\" doble comillas alrededor de un texto estás creando un string. Un string es como haces algo que tu programa podría darle a un humano. Tu imprimes strings, guardas strings en archivos, envias strings a servidores web y otras cosas más.\n",
    "En este ejercicio vas a aprender como hacer strings que tengan variables incrustadas en ellas. Incrustas variables dentro de un string usando una secuencia especial y luego pones la variable que quieres dentro de **{ }**, también deberas empezar el string con la letra __f__ de \"formato\". Estos caracteres le dicen a python 3 \"Este string necesita ser formateado pon estas variables ahí\"."
   ]
  },
  {
   "cell_type": "code",
   "execution_count": null,
   "metadata": {},
   "outputs": [],
   "source": [
    "my_name = 'Zed A. Shaw'\n",
    "my_age = 35 #not a lie\n",
    "my_height = 74 # inches\n",
    "height_cm = my_height * 2.54\n",
    "my_weight = 180 # lbs\n",
    "weight_kg = my_weight * 0.453592\n",
    "my_eyes = 'Blue'\n",
    "my_teeth = 'White'\n",
    "my_hair = 'Brown'\n",
    "\n",
    "print(f\"Let's talk about {my_name}.\")\n",
    "print(f\"He's {my_height} inches tall.\")\n",
    "print(f\"He's {height_cm} centimeters tall.\")\n",
    "print(f\"He's {my_weight} pounds heavy.\")\n",
    "print(f\"He's {weight_kg} kilograms heavy.\")\n",
    "print(\"Actually that's not too heavy.\")\n",
    "print(f\"He's got {my_eyes} eyes and {my_hair} hair.\")\n",
    "print(f\"His teeth are usually {my_teeth} depending on the coffee.\")\n",
    "\n",
    "# this line is tricky, try to get it exactly right\n",
    "total = my_age + my_height + my_weight\n",
    "print(f\"If I add {my_age}, {my_height}, and {my_weight} I get {total}\")"
   ]
  },
  {
   "cell_type": "code",
   "execution_count": null,
   "metadata": {},
   "outputs": [],
   "source": [
    "round(1.73333) #puedes redondear el número así"
   ]
  },
  {
   "cell_type": "markdown",
   "metadata": {},
   "source": [
    "### Cap 6 - \"Exercise 6\""
   ]
  },
  {
   "cell_type": "markdown",
   "metadata": {
    "collapsed": true
   },
   "source": [
    "En este ejercicio crearemos un monton de variables con complejos strings para que aprendas para qué son. Un string es usualmente un bit de texto que quires mostrar a alguien o \"exportar\" fuera del programa que estas escribiendo. Python reconoce el string ya sea que uses \"\" o '' alrededor de texto. Los strings pueden contener cualquier número de variables que estan en tu script de Python. Recuerda que una variable es cualquier linea de codigo donde tu configuras un nombre igual = a un valor. En el código para este ejercicio, types_of_people = 10 crea una variable llamada types_of_people y la configura igual a 10. Puedes poner eso en cualquier string con {types_of_people} siempre y cuando usemos el formato f; se le llama un f-string y luce así:"
   ]
  },
  {
   "cell_type": "markdown",
   "metadata": {},
   "source": [
    "f\"some stuff here { avariable }\" <br>\n",
    "f\"some other stuff { anothervariable }\""
   ]
  },
  {
   "cell_type": "markdown",
   "metadata": {},
   "source": [
    "Python tiene otro tipo de formato usando la sintaxis **.format ()** que verás en la línea 17. Eso será usado cuando aplicamos un formato a un string que ya se ha creado, por ejemplo podriamos usarlo dentro de un loop. El código a continuación presenta 5 strings que tienen dentro otro string."
   ]
  },
  {
   "cell_type": "code",
   "execution_count": null,
   "metadata": {},
   "outputs": [],
   "source": [
    "types_of_people = 10\n",
    "x = f\"There are {types_of_people} types of people.\" #x es una variable string con variables incrustado\n",
    "\n",
    "binary = \"binary\"\n",
    "do_not = \"don't\"\n",
    "y = f\"Those who know {binary} and those who {do_not}.\" #Otra vez variables incrustadas\n",
    "\n",
    "print(x)\n",
    "print(y)\n",
    "\n",
    "print(f\"I said: {x}\")\n",
    "print(f\"I also said: '{y}'\") #Esto es un string con variables incrustadas\n",
    "\n",
    "hilarious = False\n",
    "joke_evaluation = \"Isn't that joke so funny?! {}\" #se coloca {} para poder usar .format e incrustar la variable hilarious más adelante\n",
    "\n",
    "print(joke_evaluation.format(hilarious)) #Utilizamos .format para incrustar al string la variable hilarious\n",
    "\n",
    "w = \"This is the left side of...\"\n",
    "e = \"a string with a right side.\"\n",
    "\n",
    "print(w + e)\n"
   ]
  },
  {
   "cell_type": "markdown",
   "metadata": {},
   "source": [
    "### Cap 7 - \"Exercise 7\""
   ]
  },
  {
   "cell_type": "code",
   "execution_count": null,
   "metadata": {},
   "outputs": [],
   "source": [
    "# Más ejercicios!! Para separar dos print con un espacio en blanco y que no se imprima en la siguiente línea.\n",
    "\n",
    "end1 = \"C\"\n",
    "end2 = \"h\"\n",
    "end3 = \"e\"\n",
    "end4 = \"e\"\n",
    "end5 = \"s\"\n",
    "end6 = \"e\"\n",
    "end7 = \"B\"\n",
    "end8 = \"u\"\n",
    "end9 = \"r\"\n",
    "end10 = \"g\"\n",
    "end11 = \"e\"\n",
    "end12 = \"r\"\n",
    "\n",
    "#Mira esa coma al final. Trata de removerlo para ver que pasa\n",
    "print(end1 + end2 + end3 + end4 + end5 + end6, end=' ') #Para que continue en la siguiente línea sin salto de línea\n",
    "print(end7 + end8 + end9 + end10 + end11 + end12)"
   ]
  },
  {
   "cell_type": "markdown",
   "metadata": {},
   "source": [
    "### Cap 8 - \"Exercise 8\""
   ]
  },
  {
   "cell_type": "markdown",
   "metadata": {},
   "source": [
    "Veremos como hacer más formatos complicados a un string. En este ejercicio "
   ]
  },
  {
   "cell_type": "code",
   "execution_count": null,
   "metadata": {},
   "outputs": [],
   "source": [
    "formatter = \"{} {} {} {}\" #Esta línea es una variable que contiene llaves que se usarán mas adelante para colocar elementos \n",
    "#dentro, ya sean strings, integers. Hay un elemento por cada llave.\n",
    "\n",
    "#A continuación usaremos una \"función\" para convertir la variable \"formatter\" en otros elementos. El formatter.format() toma \n",
    "#el string formatter de la primera linea y luego llama a la función format y pasa al formato 4 argumentos, por las 4 {} de \n",
    "#la variable formatter. El resultado de llamar la función format en formatter es un nuevo string que tiene las {} \n",
    "#reemplazadas con 4 variables. Esto es lo que print imprime al final.\n",
    "print(formatter.format(1, 2, 3, 4)) #estos son los elementos en este caso, integers\n",
    "print(formatter.format(\"one\", \"two\", \"three\", \"four\")) #En este caso un string, cada string abarca todo lo que esté dentro \n",
    "#de \"\" ya sea 1 o más palabras.\n",
    "print(formatter.format(True, False, False, True)) #Los elementos también pueden ser booleans.\n",
    "print(formatter.format(formatter, formatter, formatter, formatter)) #Estos elementos inclusive pueden ser variables, en este\n",
    "#caso usamos la misma variable \"formatter\".\n",
    "print(formatter.format(\n",
    "    \"Try your\",\n",
    "    \"Own text here\",\n",
    "    \"Maybe a poem\",\n",
    "    \"Or a song about fear\"\n",
    ")) #Este es un ejemplo de que en cada espacio pueden ir variables palabras."
   ]
  },
  {
   "cell_type": "markdown",
   "metadata": {
    "collapsed": true
   },
   "source": [
    "### Cap 9 - \"Exercise 9\""
   ]
  },
  {
   "cell_type": "code",
   "execution_count": null,
   "metadata": {},
   "outputs": [],
   "source": [
    "#Este libro tiene el metodo de enseñar empezando con un código que tal vez no entiendas y luego más ejercicios explicando el\n",
    "#concepto de manera que entiendas conforme avanzas más ejercicios. Recuerda escribir cada código exactamente como está \n",
    "#escrito.\n",
    "\n",
    "days = \"Mon Tue Wed Thu Fri Sat Sun\"\n",
    "months = \"Jan\\nFeb\\nMar\\nApr\\nMay\\nJun\\nJul\\nAug\" #Usamos \\n para añadir un salto de línea.\n",
    "\n",
    "print(\"Here are the days: \", days)\n",
    "print(\"Here are the months: \", months)\n",
    "\n",
    "#Si usamos las normales \"\" para separar lo que escribimos en el siguiente print no podremos imprimir diferentes filas, solo \n",
    "#cuando usamos las \"\"\", además estas triple comillas respetan el salto de linea de los párrafos. Esto no ocurre con las \"\" \n",
    "#como vemos en los prints de arriba.\n",
    "print(\"\"\"\n",
    "There's something going on here.\n",
    "With the three double-quotes.\n",
    "We'll be able to type as much as we like.\n",
    "Even 4 lines if we want, or 5, or 6.\n",
    "\"\"\")"
   ]
  },
  {
   "cell_type": "markdown",
   "metadata": {
    "collapsed": true
   },
   "source": [
    "### Cap 10 - \"Exercise 10\""
   ]
  },
  {
   "cell_type": "markdown",
   "metadata": {},
   "source": [
    "En el ejercicio 9 usamos dos métodos para hacer un string vaya a través de múltiples líneas. El primer metodo es con el **\\n** entre los strings. El **\"\\\"** codifica caracteres difìciles de escribir en strings. Hay varias \"secuencias de escape\" disponibles para diferentes caracteres que querrías usar.\n",
    "\n",
    "Por ejemplo, una importante \"secuencia de escape\" es escapar una sola comilla ' o doble comilla \". Imagina que tienes un string que usa doble comilla dentro del string. Si escribes ``` \"I \"understand\" joe.\" ```Entonces Python se confundirá porque pensará que el **\"** de ```\"understand\"``` en realidad termina el string. Necesitas una forma de decirle a Python que el **\"** dentro del string no es un doble comilla real. Para resolver este problema tu \"escapas\" las doble comillas y sola comilla así Python sabe incluirlos en el string. Ejemplo:"
   ]
  },
  {
   "cell_type": "code",
   "execution_count": null,
   "metadata": {},
   "outputs": [],
   "source": [
    "\"I am 6'2\\\" tall.\" #escapa la doble comilla dentro del string\n",
    "'I am 6\\'2\" tall.' #escapa la sola comilla dentro del string"
   ]
  },
  {
   "cell_type": "markdown",
   "metadata": {},
   "source": [
    "La segunda forma es usando las triple comillas \"\"\" y funciona como un string, pero tu tambien puedes poner tantas lineas de texto como quieras hasta que escribas \"\"\" otra vez. Ejemplo:"
   ]
  },
  {
   "cell_type": "code",
   "execution_count": null,
   "metadata": {},
   "outputs": [],
   "source": [
    "tabby_cat = \"\\tI'm tabbed in.\"\n",
    "persian_cat = \"I'm split\\non a line.\"\n",
    "backslash_cat = \"I'm \\\\ a \\\\ cat.\"\n",
    "\n",
    "fat_cat = \"\"\"\n",
    "I'll do a list:\n",
    "\\t* Cat food\n",
    "\\t* Fishies\n",
    "\\t* Catnip\\n\\t* Grass\n",
    "\"\"\"\n",
    "\n",
    "print(tabby_cat)\n",
    "print(persian_cat)\n",
    "print(backslash_cat)\n",
    "print(fat_cat)"
   ]
  },
  {
   "cell_type": "markdown",
   "metadata": {},
   "source": [
    "#### Secuencias de Escape \n",
    "En la siguiente tabla se muestran todas las secuencias de escape que soporta Python. No usuaras muchas de estas, pero de todas formas memoriza su formato y lo que hacen.\n",
    "\n",
    "|Escape      |Lo que hace                                                        |\n",
    "| :------    |: -----------------------------------------------------------------|\n",
    "|\\\\          |Backslash (\\)                                                      |\n",
    "|\\'          |Una comilla (')                                                    |\n",
    "|\\\"          |Doble comilla (\")                                                  |\n",
    "|\\a          |ASCII bel (BEL)                                                    |\n",
    "|\\b          |ASCII backspace (BS)                                               |\n",
    "|\\f          |ASCII formfeed (FF)                                                |\n",
    "|\\n          |ASCII linefeed (LF)                                                |\n",
    "|\\N{name}    |Caracter llamado nombre en la base de datos Unicode (unicode only) | \n",
    "|\\r          |Carriage return (CR)                                               |\n",
    "|\\t          |Horizontal tab (TAB)                                               | \n",
    "|\\uxxxx      |Caracter con 16-bit hex valor xxxx (u\" solo string)                |\n",
    "|\\Uxxxxxxxx  |Caracter con 32-bit hex valor xxxxxxxx (u\" solo string)            |\n",
    "|\\v          |ASCII tabular vertical (VT)                                        |\n",
    "|\\ooo        |Caracter con valor octal ooo                                       |\n",
    "|\\xhh        |Caracter con valor hex hh                                          |\n"
   ]
  },
  {
   "cell_type": "markdown",
   "metadata": {
    "collapsed": true
   },
   "source": [
    "### Cap 11 - \"Exercise 11\""
   ]
  },
  {
   "cell_type": "markdown",
   "metadata": {},
   "source": [
    "Lo que haremos ahora es obtener data en tus programas. Esto es un poco engañoso porque tienes que aprender a hacer dos cosas que no tendrían mucho sentido al inicio pero lo tendrán en unos pocos ejercicios. La mayor parte de lo que un software hace es lo siguiente:\n",
    "1. Tomar algún tipo de entrada de una persona. \n",
    "2. Cámbialo.\n",
    "3. Imprime algo para mostrar cómo cambia.\n",
    "\n",
    "Aunque aún no sepas lo que significa una \"entrada\" o \"input\" intenta el siguiente código."
   ]
  },
  {
   "cell_type": "code",
   "execution_count": null,
   "metadata": {},
   "outputs": [],
   "source": [
    "print(\"How old are you?\", end=' ') #El ' ' al final le dice a la función print no terminar la linea con un caracter de nueva\n",
    "#línea e ir a la siguiente linea.\n",
    "age = input()\n",
    "print(\"How tall are you?\", end=' ')\n",
    "height = input()\n",
    "print(\"How much do you weight?\", end=' ')\n",
    "weight = input()\n",
    "\n",
    "print(f\"So, you're {age} old, {height} tall and {weight} heavy.\") #Uso de f para reconocer las variables dentro de las {}."
   ]
  },
  {
   "cell_type": "markdown",
   "metadata": {},
   "source": [
    "El ``` input(prompt)``` es una función que toma el input del usuario, evalúa la expresión, Python automáticamente identifica si el usuario ingresó un string, integer o list, y luego lo devuelve a la variable en la cual queremos almacenar. Si el input que ingresa el usuario no es correcto entonces Python mostrará un **syntax error** o **exception is raised**. Lo que sea que ingrese el usuario Python lo convertirá a string. Por ejemplo:"
   ]
  },
  {
   "cell_type": "code",
   "execution_count": null,
   "metadata": {},
   "outputs": [],
   "source": [
    "g = input(\"Enter your name: \")\n",
    "print(g)\n",
    "print (\"type\", type(g)) "
   ]
  },
  {
   "cell_type": "markdown",
   "metadata": {},
   "source": [
    "Otra forma de ingresar el input del usuario es **raw_input()** pero funciona en versiones antiguas como Python 2.x. Esta función toma exactamente lo que el usuario escribió del teclado, lo convierte a string y lo devuelve a la variable en la que queremos almacenarlo. También podemos usar raw_input() para ingresar data numérica, pero para ello necesitamos usar **typecasting**."
   ]
  },
  {
   "cell_type": "markdown",
   "metadata": {
    "collapsed": true
   },
   "source": [
    "### Cap 12 - \"Exercise 12\""
   ]
  },
  {
   "cell_type": "markdown",
   "metadata": {
    "collapsed": true
   },
   "source": [
    "En el ejercicio anterior usamos los caracteres **paréntesis \"( )\"**. Esto es similar a cuando los usaste para hacer formato con extra variables, como **f\" {x} {y}\"**. Para el input también podemos escribir un emergente para que el usuario sepa qué escribir. Por ejemplo: ```y = input(\"Name?\")``` Ahora haremos el ejercicio anterior de manera que el input haga todas las preguntas emergentes."
   ]
  },
  {
   "cell_type": "code",
   "execution_count": null,
   "metadata": {},
   "outputs": [],
   "source": [
    "age = input(\"How old are you? \")\n",
    "height = input(\"How tall are you? \")\n",
    "weight = input(\"How much do you weigh? \n",
    "               \n",
    "\n",
    "print(f\"So, you're {age} old, {height} tall and {weight} heavy.\")"
   ]
  },
  {
   "cell_type": "markdown",
   "metadata": {},
   "source": [
    "Podemos usar la documentación de python para que nos indique una breve definición y funcionalidad del comando input, para lo cual usamos el comando **pydoc**. Con el siguiente código ```python -m pydoc input``` donde input se reemplaza con el nombre del paquete del que se está buscando documentación. Lo que este comando hace es dar al usuario una breve definición del módulo, los argumentos que tiene y qué colocar en cada uno para usar el módulo correctamente. Según la definición de la documentación de python el **input** es: ```input(prompt=None, /)``` un comando que lee un string de un input estándar, y que acaba con una nueva línea, que al final se elimina. El prompt string, si es dado, es impreso en una salida estándar sin una nueva línea despues de leer el input.\n",
    "\n",
    "Podemos usar **pydoc** para encontrar también, por ejemplo, el comando **open**. Muestra una breve descripción ```open(file, mode='r', buffering=-1, encoding=None, errors=None, newline=None, closefd=True, opener=None)``` Donde **file** es un string texto o byte con el nombre o path del archivo que se abrirá o un descriptor de archivo integer del archivo a envolver. **Mode** es un string opcional que especifica el modo en el cual el archivo es abierto. Por default toma el valor 'r', que es abrir con permisos de lectura. Otros valores son: 'w' para escribir (truncando el archivo si es que ya existe), 'x' para crear y escribir a un nuevo archivo y 'a' para abrir con modo escribir y agregar al final del archivo si es que existe (en algunos sistemas Unix, significa que todas las escrituras se agreguen al final del archivo, independientemente de la posición de búsqueda actual)."
   ]
  },
  {
   "cell_type": "markdown",
   "metadata": {},
   "source": [
    "  |Character| Meaning\n",
    "  | :-------|:--------------------------------------------------------------|\n",
    "    'r'     |  open for reading (default)\n",
    "    'w'     |  open for writing, truncating the file first\n",
    "    'x'     |  create a new file and open it for writing\n",
    "    'a'     |  open for writing, appending to the end of the file if it exists\n",
    "    'b'     |  binary mode\n",
    "    't'     |  text mode (default)\n",
    "    '+'     |  open a disk file for updating (reading and writing)\n",
    "    'U'     |  universal newline mode (deprecated)"
   ]
  },
  {
   "cell_type": "markdown",
   "metadata": {},
   "source": [
    "El parámetro **encoding** es el nombre de la codificación utilizada para decodificar o codificar el archivo. Esto solo debe usarse en modo texto. La codificación predeterminada depende de la plataforma, pero se puede pasar cualquier codificación compatible con Python. Consultar el módulo de códecs para ver la lista de codificaciones compatibles. **errors** es un string opcional que especifica como los errores de codificación son manejados, este argumento no debería ser usaro en modo binario. Pase 'strict' para generar una \"ValueError exceotuib\" si hay un error de codificación (este es el valor por default), o pase 'ignore' para ignorar los errores. (Tenga en cuenta que ignorar los errores de codificación puede llevar a la pérdida de datos). Consulte la documentación de codecs.register o ejecute 'help(codecs.Codec)'para obtener una lista de los strings permitidos de error de codificación.\n",
    "\n",
    "Otros comandos importantes que pueden buscar es **file, os y sys** aún si no entienden muchos términos, con solo leerlos puedes aprender cosas interesante. "
   ]
  },
  {
   "cell_type": "code",
   "execution_count": null,
   "metadata": {},
   "outputs": [],
   "source": []
  }
 ],
 "metadata": {
  "kernelspec": {
   "display_name": "Python 3",
   "language": "python",
   "name": "python3"
  },
  "language_info": {
   "codemirror_mode": {
    "name": "ipython",
    "version": 3
   },
   "file_extension": ".py",
   "mimetype": "text/x-python",
   "name": "python",
   "nbconvert_exporter": "python",
   "pygments_lexer": "ipython3",
   "version": "3.7.3"
  }
 },
 "nbformat": 4,
 "nbformat_minor": 2
}
